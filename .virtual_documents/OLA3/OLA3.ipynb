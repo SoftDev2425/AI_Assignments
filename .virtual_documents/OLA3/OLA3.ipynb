





import pandas as pd
import matplotlib.pyplot as plt
import seaborn as sns

cities = ['2800', '2820', '2830', '2840', '2850', '2900', '2920', '2930', '2942', '2950','3000','3460']
dataframes = []

for city in cities:
    filename = f'./house_data/house_data_{city}.csv'
    df = pd.read_csv(filename)
    df['City'] = city
    dataframes.append(df)

housing = pd.concat(dataframes, ignore_index=True)
housing["Type"].unique()

housing = housing.rename(columns={'X': 'longitude'})
housing = housing.rename(columns={'Y': 'latitude'})
housing = housing.drop(columns=["Url"])
housing.head()


plt.figure(1 , figsize = (10 , 5))

houses_plot = sns.scatterplot(
    data=housing,
    x="Price",
    y="Size",
    hue="Energy class",
    size="Squaremeter price",
    palette="Set2"
);

houses_plot.legend(loc='center left', bbox_to_anchor=(1, 0.5), ncol=1)





housing.drop(columns=['Address', 'Energy class', 'Type'], inplace=True)


from sklearn import preprocessing
X = housing.drop(["Price","Size"],axis=1)
print(X.head())
X_norm = preprocessing.normalize(X)


import numpy as np
from sklearn.cluster import KMeans

def elbow_plot(data,clusters):
    inertia = []
    for n in range(1, clusters):
        algorithm = KMeans(
            n_clusters=n,
            init="k-means++",
            random_state=125,
        )
        algorithm.fit(data)
        inertia.append(algorithm.inertia_)
    # Plot
    plt.plot(np.arange(1 , clusters) , inertia , 'o')
    plt.plot(np.arange(1 , clusters) , inertia , '-' , alpha = 0.5)
    plt.xlabel('Number of Clusters') , plt.ylabel('Inertia')
    plt.show();

elbow_plot(X_norm,10)





algorithm = KMeans(n_clusters=4, init="k-means++", random_state=125)
algorithm.fit(X_norm)
labels = algorithm.labels_


sns.scatterplot(data = X, x = 'longitude', y = 'latitude', hue = labels, palette="Set2");





import pandas as pd
from sklearn.datasets import load_iris
from sklearn.cluster import KMeans
import matplotlib.pyplot as plt


# Loading the dataset
iris = load_iris()

df = pd.DataFrame(iris['data'], columns=iris['feature_names'])
df.columns = [col.strip(" (cm)") for col in df.columns]  # Stripping the " (cm)" from column names
df.head()



