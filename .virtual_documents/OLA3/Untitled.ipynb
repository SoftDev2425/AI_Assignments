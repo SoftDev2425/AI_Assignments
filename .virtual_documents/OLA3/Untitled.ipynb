





import pandas as pd
import matplotlib.pyplot as plt
import seaborn as sns

cities = ['2800', '2820', '2830', '2840', '2850', '2900', '2920', '2930', '2942', '2950','3000','3460']
dataframes = []

for city in cities:
    filename = f'./house_data/house_data_{city}.csv'
    df = pd.read_csv(filename)
    df['City'] = city
    dataframes.append(df)

housing = pd.concat(dataframes, ignore_index=True)
housing["Type"].unique()

housing = housing.rename(columns={'X': 'longitude'})
housing = housing.rename(columns={'Y': 'latitude'})
housing = housing.drop(columns=["Url"])
housing.head()


# Since there's only two houses with type Landejendom, we will remove them
housing = housing[housing['Type'] != 'Landejendom']
housing["Type"].value_counts()


plt.figure(1 , figsize = (10 , 5))

houses_plot = sns.scatterplot(
    data=housing,
    x="Price",
    y="Size",
    hue="Energy class",
    size="Squaremeter price",
    palette="Set2"
);

houses_plot.legend(loc='center left', bbox_to_anchor=(1, 0.5), ncol=1)








from sklearn import preprocessing

housing = housing.drop(["Address"])

X = housing.drop(["Price","Size"],axis=1)
X_norm = preprocessing.normalize(X)
