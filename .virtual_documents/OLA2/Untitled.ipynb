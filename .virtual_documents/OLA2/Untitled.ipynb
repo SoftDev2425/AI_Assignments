


from sklearn.metrics.pairwise import manhattan_distances
import numpy as np

# Example points in 2 dimensions
points_2d = [[1, 2], [3, 5], [7, 8], [10, 12]]

manhattan_distances_2d = manhattan_distances(points_2d)
print("Manhattan distances in 2 dimensions:")
print(manhattan_distances_2d)

# Example points in more than 2 dimensions
points_multi_dim = [[1, 2, 3], [3, 5, 2], [7, 8, 4], [10, 12, 6]]

manhattan_distances_multi_dim = manhattan_distances(points_multi_dim)
print("\nManhattan distances in more than 2 dimensions:")
print(manhattan_distances_multi_dim)


# Example train and test datasets
train_data = np.array([[1, 2], [3, 5], [7, 8], [10, 12]])
test_data = np.array([[2, 4], [5, 7]])

# Calculate Manhattan distances between train and test datasets
manhattan_distances_train_test = manhattan_distances(train_data, test_data)

print("Manhattan distances between train and test datasets:")
print(manhattan_distances_train_test)






