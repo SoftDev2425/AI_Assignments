%pip install pandas numpy matplotlib


import statistics as stat
import pandas as pd


test_set = [1.2,3,2,3,4,1.6,2.1,2.6,1,2.7,1.8,3,1.2,1.9,1.4,4,2,3,1,3.1,3.7,1.1,1.1,2]


stat.mean(test_set)


statistics.mean(test_set)


stat.mode(test_set)


stat.median(test_set)


stat.stdev(test_set)





import pandas as pd


import numpy as np


import random as rand


import matplotlib.pyplot as plt


np.mean(test_set)


np.random.randint(low=1,high=100,size=1000000)


arr1 = np.random.randint(low=1,high=100,size=1000000)


arr2 = np.random.randint(low=1,high=100,size=1000000)


arr2.size()


arr2.size


import math


random.random()


%%time
# Python list: sin of 100,000,000 random numbers
pl = [math.sin(random.random()) for i in range(100_000_000)]


%%time
# NumPy array: sin of 100,000,000 random numbers
na = np.sin(np.random.rand(100_000_000))


%%time
pl2 = [math.sin(random.random()) for i in range(100_000_000)]



%%time
# NumPy array: sin of 100,000,000 random numbers
na2 = np.sin(np.random.rand(100_000_000))


df = pd.DataFrame([[10, 20, 30, 40], [7, 14, 21, 28], [55, 15, 8, 12],
                   [15, 14, 1, 8], [7, 1, 1, 8], [5, 4, 9, 2]],
                  columns=['Apple', 'Orange', 'Banana', 'Pear'],
                  index=['Basket1', 'Basket2', 'Basket3', 'Basket4',
                         'Basket5', 'Basket6'])

print("\n----------- Calculate Mean -----------\n")
print(df.mean())

print("\n----------- Calculate Median -----------\n")
print(df.median())

print("\n----------- Calculate Mode -----------\n")
print(df.mode())


df.describe


pd.read_csv("titanic/train.csv")


df.describe()


my_titanic_data = pd.read_csv("titanic/train.csv")


my_titanic_data.describe()


df = my_titanic_data


df.describe


df.describe()


df.head()


df.tail()


df.shape


df.dtypes


df.isnull().sum()


# Go to https://makeschool.org/mediabook/oa/tutorials/titanic-dataset-tutorial-an-intro-to-data-analysis-and-statistics-n40/variance/ 
#to continue the exercises

df.hist(column="Age")


df.hist(column="Fare")


# Age Histogram
plt.hist(df.Age)
plt.axvline(df.Age.mean(), color='k', linestyle='dashed', linewidth=1)
plt.title('Ages of Passengers on Titanic')
plt.ylabel('Count')
plt.xlabel('Age (in Years)')

# Add standard deviation markers
plt.axvline(df.Age.mean()+df.Age.std(), color='k', linestyle='dashed', linewidth=1)
plt.axvline(df.Age.mean()-df.Age.std(), color='k', linestyle='dashed', linewidth=1)


# correlation - relationship between categories 
# Pearson's correlation coefficient -1 (pure negative correlation) to +1 (perfect correlation)


df['Survived'].corr(df['Age'])


# there is a small negative correlation here


#Example of regression -1, +1 and 0


seed = 13
rand = np.random.RandomState(seed)

x = rand.uniform(0,1,100) # generate a 100 random numbers between 0 and 1
x = np.vstack((x,x*2+1)) # stack 
x = np.vstack((x,-x[0,]*2+1))
x = np.vstack((x,rand.normal(1,3,100)))


rho = np.corrcoef(x)

fig, ax = plt.subplots(nrows=1, ncols=3, figsize=(12, 3))
for i in [0,1,2]:
    ax[i].scatter(x[0,],x[1+i,])
    ax[i].title.set_text('Correlation = ' + "{:.2f}".format(rho[0,i+1]))
    ax[i].set(xlabel='x',ylabel='y')
fig.subplots_adjust(wspace=.4)    
plt.show()























#simple script to allow the definition of Mermaid markdown graphics in Jupyter Notebooks
import base64
from IPython.display import Image, display
import matplotlib.pyplot as plt

def mm(graph):
    graphbytes = graph.encode("utf8")
    base64_bytes = base64.b64encode(graphbytes)
    base64_string = base64_bytes.decode("ascii")
    display(Image(url="https://mermaid.ink/img/" + base64_string))

mm("""
graph LR;
    A--> B & C & D;
    B--> A & E;
    C--> A & E;
    D--> A & E;
    E--> B & C & D;
""")


mm("""
graph LR
    A[Square Rect] -- Link text --> B((Circle))
    A --> C(Round Rect)
    B --> D{Rhombus}
    C --> D
""")












