{
 "cells": [
  {
   "cell_type": "markdown",
   "id": "4cd96e74-fc3e-4856-af8b-4939b8600e46",
   "metadata": {},
   "source": [
    "# OLA 4\n",
    "![\"Showcasing objective\"](./images/cnnimages/catordog.gif \"CatorDog\")"
   ]
  }
 ],
 "metadata": {
  "kernelspec": {
   "display_name": "Python 3 (ipykernel)",
   "language": "python",
   "name": "python3"
  },
  "language_info": {
   "codemirror_mode": {
    "name": "ipython",
    "version": 3
   },
   "file_extension": ".py",
   "mimetype": "text/x-python",
   "name": "python",
   "nbconvert_exporter": "python",
   "pygments_lexer": "ipython3",
   "version": "3.9.6"
  }
 },
 "nbformat": 4,
 "nbformat_minor": 5
}
