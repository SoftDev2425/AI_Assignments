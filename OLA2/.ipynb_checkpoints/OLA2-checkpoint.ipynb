{
 "cells": [
  {
   "cell_type": "markdown",
   "id": "70181f37-f0ae-41e1-a9cb-d30e32cb6208",
   "metadata": {},
   "source": [
    "# OLA 2"
   ]
  },
  {
   "cell_type": "markdown",
   "id": "273092aa-014d-4f77-a0c1-3d7cdb8f0f13",
   "metadata": {},
   "source": [
    "## Preparing dataset\n",
    "Select and prepare a data set to explore a problem you are interested in understanding. This\n",
    "can be your exam project problem or in the same problem domain. "
   ]
  },
  {
   "cell_type": "markdown",
   "id": "8cb309e8-ed90-4fa3-aa49-9f3094506c4a",
   "metadata": {},
   "source": [
    "## Usage of 3 machine learning models\n",
    "\n",
    "explain choice of models\n",
    "Using at least three different models explain your problem, how machine learning can be used to explore the\n",
    "problem and demonstrate your solution."
   ]
  },
  {
   "cell_type": "code",
   "execution_count": null,
   "id": "723677cf-0427-44bb-b9bc-2d9d328e7aae",
   "metadata": {},
   "outputs": [],
   "source": []
  },
  {
   "cell_type": "code",
   "execution_count": null,
   "id": "97aa7dab-e28e-435b-9b07-e7dd26c31020",
   "metadata": {},
   "outputs": [],
   "source": []
  },
  {
   "cell_type": "markdown",
   "id": "723bfe61-6684-41fa-a1e9-a7bea3b3ea35",
   "metadata": {},
   "source": [
    "You should demonstrate that you have split the data in a sensible way for testing, training\n",
    "and validation. You should explain how you have measured quality using appropriate\n",
    "measures for accuracy, precision and recall (sensitivity). "
   ]
  },
  {
   "cell_type": "markdown",
   "id": "6b9eaef2-c69f-489b-941d-4d4d1bfee86e",
   "metadata": {},
   "source": [
    "### Selection of the best fit model\n",
    "asdhiashdasadkjas diad oas d"
   ]
  },
  {
   "cell_type": "markdown",
   "id": "fc665371-5eb0-4711-946a-3bb3a6f56e70",
   "metadata": {},
   "source": [
    "## Overfitting"
   ]
  },
  {
   "cell_type": "markdown",
   "id": "055d1dd4-183a-4acd-b6ef-c5a090a8d2a2",
   "metadata": {},
   "source": [
    "## Explain what hyperparameters you have adjusted and why"
   ]
  },
  {
   "cell_type": "markdown",
   "id": "7afec8b7-7812-4c9f-955d-041b0305f61b",
   "metadata": {},
   "source": [
    "## Explain how you have measured quality using F1 score and explain the terms accuracy, precision and recall (sensitivity)."
   ]
  },
  {
   "cell_type": "markdown",
   "id": "85ded9ac-8472-4768-a9ce-99053780714f",
   "metadata": {},
   "source": [
    "## Measuring distance between data points\n",
    "Prepare a short presentation (save it as a PDF file) on measuring distance between\n",
    "data points\n",
    "\n",
    "- Manhattan\n",
    "- Euclidean\n",
    "- Hamming distance\n",
    "\n",
    "The presentation should provide examples of calculating these distance and\n",
    "explanation of what we do with that information - why are there different\n",
    "measures?"
   ]
  },
  {
   "cell_type": "markdown",
   "id": "95960a5f-7aff-4c3a-87d4-fd4cbb15f9eb",
   "metadata": {},
   "source": [
    "## How to use the model\n",
    "You should describe how this solution could be wrapped into an application and deployed -\n",
    "how do you move from the laboratory to the real world?\n",
    "\n",
    "\n",
    "GUI - store the model and use underneath for predictions.. -ligesom vi gjorde i python\n",
    "\n",
    "\n",
    "Show how you would move code out of the Notebook into an application. You should\n",
    "build a prototype that shows how you would integrate the solution into an application\n",
    "- this can be a simple user interface (console or HTML based) to the Python script or\n",
    "another solution. "
   ]
  }
 ],
 "metadata": {
  "kernelspec": {
   "display_name": "Python 3 (ipykernel)",
   "language": "python",
   "name": "python3"
  },
  "language_info": {
   "codemirror_mode": {
    "name": "ipython",
    "version": 3
   },
   "file_extension": ".py",
   "mimetype": "text/x-python",
   "name": "python",
   "nbconvert_exporter": "python",
   "pygments_lexer": "ipython3",
   "version": "3.12.2"
  }
 },
 "nbformat": 4,
 "nbformat_minor": 5
}
