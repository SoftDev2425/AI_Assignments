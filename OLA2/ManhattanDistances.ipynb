{
 "cells": [
  {
   "cell_type": "markdown",
   "id": "26dfc533-f551-4114-bcad-61a14e3aa581",
   "metadata": {},
   "source": [
    "# Manhattan Distances Example"
   ]
  },
  {
   "cell_type": "code",
   "execution_count": 3,
   "id": "40ae7a56-42fe-4b92-881f-03f21cd83b40",
   "metadata": {},
   "outputs": [
    {
     "name": "stdout",
     "output_type": "stream",
     "text": [
      "Manhattan distances in 2 dimensions:\n",
      "[[ 0.  5. 12. 19.]\n",
      " [ 5.  0.  7. 14.]\n",
      " [12.  7.  0.  7.]\n",
      " [19. 14.  7.  0.]]\n",
      "\n",
      "Manhattan distances in more than 2 dimensions:\n",
      "[[ 0.  6. 13. 22.]\n",
      " [ 6.  0.  9. 18.]\n",
      " [13.  9.  0.  9.]\n",
      " [22. 18.  9.  0.]]\n"
     ]
    }
   ],
   "source": [
    "from sklearn.metrics.pairwise import manhattan_distances\n",
    "import numpy as np\n",
    "\n",
    "# Example points in 2 dimensions\n",
    "points_2d = [[1, 2], [3, 5], [7, 8], [10, 12]]\n",
    "\n",
    "manhattan_distances_2d = manhattan_distances(points_2d)\n",
    "print(\"Manhattan distances in 2 dimensions:\")\n",
    "print(manhattan_distances_2d)\n",
    "\n",
    "# Example points in more than 2 dimensions\n",
    "points_multi_dim = [[1, 2, 3], [3, 5, 2], [7, 8, 4], [10, 12, 6]]\n",
    "\n",
    "manhattan_distances_multi_dim = manhattan_distances(points_multi_dim)\n",
    "print(\"\\nManhattan distances in more than 2 dimensions:\")\n",
    "print(manhattan_distances_multi_dim)"
   ]
  },
  {
   "cell_type": "code",
   "execution_count": 4,
   "id": "c8fa3181-10e5-4311-95d9-6696546aa170",
   "metadata": {},
   "outputs": [
    {
     "name": "stdout",
     "output_type": "stream",
     "text": [
      "Manhattan distances between train and test datasets:\n",
      "[[ 3.  9.]\n",
      " [ 2.  4.]\n",
      " [ 9.  3.]\n",
      " [16. 10.]]\n"
     ]
    }
   ],
   "source": [
    "# Example train and test datasets\n",
    "train_data = np.array([[1, 2], [3, 5], [7, 8], [10, 12]])\n",
    "test_data = np.array([[2, 4], [5, 7]])\n",
    "\n",
    "# Calculate Manhattan distances between train and test datasets\n",
    "manhattan_distances_train_test = manhattan_distances(train_data, test_data)\n",
    "\n",
    "print(\"Manhattan distances between train and test datasets:\")\n",
    "print(manhattan_distances_train_test)"
   ]
  },
  {
   "cell_type": "markdown",
   "id": "26ddca0f-47b3-40a6-877c-50b24c5495a0",
   "metadata": {},
   "source": [
    "For each of the data points in the *train_data* dataset the manhattan distance is calculated to the test_data points. <br>\n",
    "So the distance between the first data point in the train_data set **[1, 2]** and the first data point in test_data set **[2, 4]** is = **|x2-x1|+|y1-y1|=|2-1|+|4-2| = |1|+|2| = 3** <br>\n",
    "And the distance between the first data point in the train_data set **[1, 2]** and the second test_data set **[5, 7]** = **|5-1|+|7-2| = |4|+|5| = 9** <br>\n",
    "Thereby the result for the first data point in the train_data **[1, 2]** to the data points in the test_data is **[ 3.  9.]** .<br>\n",
    "Same is now calculated for the rest of the data points in train_data. <br>"
   ]
  },
  {
   "cell_type": "code",
   "execution_count": 7,
   "id": "12f94f99-561e-47a2-8a75-e270dfadf6b2",
   "metadata": {},
   "outputs": [
    {
     "name": "stdout",
     "output_type": "stream",
     "text": [
      "Manhattan distances between train and test datasets:\n",
      "[[ 5.  9.  7.]\n",
      " [ 3.  5.  1.]\n",
      " [ 9.  5.  7.]\n",
      " [19. 11. 15.]]\n"
     ]
    }
   ],
   "source": [
    "# Example train and test datasets with more than 2 dimensions\n",
    "train_data = np.array([[1, 2, 3], [3, 5, 2], [7, 8, 1], [10, 12, 4]])\n",
    "test_data = np.array([[2, 4, 1], [5, 7, 3], [4, 5, 2]])\n",
    "\n",
    "# Calculate Manhattan distances between train and test datasets\n",
    "manhattan_distances_train_test = manhattan_distances(train_data, test_data)\n",
    "\n",
    "print(\"Manhattan distances between train and test datasets:\")\n",
    "print(manhattan_distances_train_test)"
   ]
  }
 ],
 "metadata": {
  "kernelspec": {
   "display_name": "Python 3 (ipykernel)",
   "language": "python",
   "name": "python3"
  },
  "language_info": {
   "codemirror_mode": {
    "name": "ipython",
    "version": 3
   },
   "file_extension": ".py",
   "mimetype": "text/x-python",
   "name": "python",
   "nbconvert_exporter": "python",
   "pygments_lexer": "ipython3",
   "version": "3.12.2"
  }
 },
 "nbformat": 4,
 "nbformat_minor": 5
}
