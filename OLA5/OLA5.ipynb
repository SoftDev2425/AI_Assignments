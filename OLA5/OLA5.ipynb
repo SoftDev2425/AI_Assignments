{
 "cells": [
  {
   "cell_type": "markdown",
   "id": "ae652077-4a04-433c-8aab-ebcd81641e1f",
   "metadata": {},
   "source": [
    "# OLA 5 - NLP, NLU & GenAI\n",
    "\n",
    "Andreas, Owais & Rasmus\n",
    "\n",
    "---\n",
    "\n",
    "A great part of the information about the world comes to us as text in a language we can read, write, and understand - natural language. To be able to process, analyse and generate text automatically by means of a computer program, we need to apply certain preparation and transformation of it.\n",
    "\n",
    "Natural Language Processing (NLP), Natural Language Understanding (NLU), and Generative AI (GenAI) are\n",
    "the among the most advanced and most popular branches of AI nowadays, which accumulate the numerous and years long achievements of researchers’ and developers’ in creating software that can communicate like a human.\n",
    "\n",
    "NLP, NLU, and GenAI consists of multiple methods, algorithms, and tools in support of building modern AI applications.\n",
    "\n",
    "The objectives of this project are:\n",
    "- understanding the fundamental AI concepts of working with text\n",
    "- gaining experience in implementation of relevant methods, algorithms, and libraries for creating usable AI applications\n",
    "\n",
    "We will create an interactive application that can answer questions, related to a specified domain area, in natural language.\n",
    "\n",
    "We will be training our model on the following context: \n",
    "\n",
    "- Apple Inc"
   ]
  },
  {
   "cell_type": "markdown",
   "id": "68323153-541d-40f9-be49-26749dfd186a",
   "metadata": {},
   "source": [
    "## Task 0 - setup environment\n"
   ]
  },
  {
   "cell_type": "code",
   "execution_count": 1,
   "id": "505e0744-4417-4b0b-8a8f-221b501577ca",
   "metadata": {},
   "outputs": [],
   "source": [
    "import torch"
   ]
  },
  {
   "cell_type": "code",
   "execution_count": 2,
   "id": "d8db8ead-b7a5-45eb-8883-fafaa13c1b4c",
   "metadata": {},
   "outputs": [],
   "source": [
    "import pandas as pd\n",
    "import langdetect\n",
    "from langdetect import DetectorFactory, detect, detect_langs"
   ]
  },
  {
   "cell_type": "code",
   "execution_count": 3,
   "id": "2e7d9cd0-f4c4-4613-99a0-d347cf796c84",
   "metadata": {},
   "outputs": [],
   "source": [
    "from langchain.llms import Ollama\n",
    "from langchain.callbacks.manager import CallbackManager\n",
    "from langchain.callbacks.streaming_stdout import StreamingStdOutCallbackHandler"
   ]
  },
  {
   "cell_type": "code",
   "execution_count": 4,
   "id": "968e70c2-2556-4817-895d-73f98fabdf3d",
   "metadata": {},
   "outputs": [],
   "source": [
    "from langchain.docstore.document import Document\n",
    "from langchain.text_splitter import RecursiveCharacterTextSplitter\n",
    "from langchain.vectorstores import Chroma\n",
    "from langchain.chains import ConversationalRetrievalChain\n",
    "from langchain.memory import ConversationBufferMemory\n",
    "from langchain.prompts import PromptTemplate"
   ]
  },
  {
   "cell_type": "code",
   "execution_count": 5,
   "id": "65f06052-0308-467f-af1c-316b0450ac65",
   "metadata": {},
   "outputs": [],
   "source": [
    "# Embedding facilities\n",
    "from langchain.embeddings import HuggingFaceEmbeddings"
   ]
  },
  {
   "cell_type": "code",
   "execution_count": 6,
   "id": "dc153737-dc97-4597-aeee-d2cd59abc830",
   "metadata": {},
   "outputs": [],
   "source": [
    "# Pipelines\n",
    "from langchain import HuggingFacePipeline\n",
    "from langchain.chains import RetrievalQA"
   ]
  },
  {
   "cell_type": "markdown",
   "id": "aa92f353-6a7f-4156-bc08-8b78973f9647",
   "metadata": {},
   "source": [
    "## Task 1\n",
    "Collect and load text documents from various sources and formats in the context of the chosen domain\n",
    "– e.g. txt, doc, csv, json, pdf files, web pages, or APIs in data frames (choose a few).\n",
    "\n",
    "We choose:\n",
    "- Web Pages -> wikipedia, youtube\n",
    "- PDF files"
   ]
  },
  {
   "cell_type": "code",
   "execution_count": 7,
   "id": "2a8a3f7e-af21-4bb7-b4ae-1a0da9bd5db6",
   "metadata": {},
   "outputs": [],
   "source": [
    "import myloadlib\n",
    "from myloadlib import loadDir, loadFile, loadWiki, loadYoutube, readAPI"
   ]
  },
  {
   "cell_type": "code",
   "execution_count": 8,
   "id": "71e6b9f9-a831-48c3-b346-a8bd498a94a1",
   "metadata": {},
   "outputs": [
    {
     "data": {
      "text/plain": [
       "<module 'myloadlib' from '/Users/owaisdashti/Software2425/AI_Assignments/OLA5/myloadlib.py'>"
      ]
     },
     "execution_count": 8,
     "metadata": {},
     "output_type": "execute_result"
    }
   ],
   "source": [
    "import importlib \n",
    "importlib.reload(myloadlib)"
   ]
  },
  {
   "cell_type": "code",
   "execution_count": 9,
   "id": "e60750ac-eea1-48b6-9635-47747ad8a0be",
   "metadata": {},
   "outputs": [],
   "source": [
    "# Collect all data from the various sources here\n",
    "documents = []"
   ]
  },
  {
   "cell_type": "markdown",
   "id": "7d99af22-4201-44a0-8bb0-5a4170283d05",
   "metadata": {},
   "source": [
    "###  Loading Single File"
   ]
  },
  {
   "cell_type": "code",
   "execution_count": 10,
   "id": "95273299-ed6d-4618-81c1-278e60fab2d1",
   "metadata": {},
   "outputs": [],
   "source": [
    "file = \"./data/apple-from-garage-to-worlds-most-valuable-company.pdf\""
   ]
  },
  {
   "cell_type": "code",
   "execution_count": 11,
   "id": "d5132d14-827e-4019-baa1-b50a64b45e8f",
   "metadata": {},
   "outputs": [],
   "source": [
    "docs = myloadlib.loadFile(file)"
   ]
  },
  {
   "cell_type": "code",
   "execution_count": 12,
   "id": "c74ae046-59c6-4645-a1f3-9412fe181d30",
   "metadata": {},
   "outputs": [
    {
     "data": {
      "text/plain": [
       "3"
      ]
     },
     "execution_count": 12,
     "metadata": {},
     "output_type": "execute_result"
    }
   ],
   "source": [
    "documents.extend(docs)\n",
    "len(documents)"
   ]
  },
  {
   "cell_type": "code",
   "execution_count": 13,
   "id": "57c8509b-bfab-456c-a53b-3e8b87e5e868",
   "metadata": {},
   "outputs": [
    {
     "data": {
      "text/plain": [
       "{'source': './data/apple-from-garage-to-worlds-most-valuable-company.pdf',\n",
       " 'page': 1}"
      ]
     },
     "execution_count": 13,
     "metadata": {},
     "output_type": "execute_result"
    }
   ],
   "source": [
    "# metadata of loaded Document\n",
    "docs[1].metadata "
   ]
  },
  {
   "cell_type": "code",
   "execution_count": 14,
   "id": "fc3f79a3-06a9-46ab-a157-6339c01dc204",
   "metadata": {},
   "outputs": [
    {
     "data": {
      "text/plain": [
       "' \\n Apple Macintosh, 1984 Photo: © Mark Richards  In the decade Jobs was away, Apple had lost it way and was losing mon- ey at a catastrophic rate. Its product line was bloated and confusing, while its'"
      ]
     },
     "execution_count": 14,
     "metadata": {},
     "output_type": "execute_result"
    }
   ],
   "source": [
    "# content of the Document\n",
    "documents[1].page_content[:200]"
   ]
  },
  {
   "cell_type": "markdown",
   "id": "efe5abd4-abcd-4933-8c80-9f5238a00dbc",
   "metadata": {},
   "source": [
    "### Loading Wiki Article"
   ]
  },
  {
   "cell_type": "code",
   "execution_count": 15,
   "id": "01514c89-2674-4cd9-a536-dba764228c21",
   "metadata": {},
   "outputs": [],
   "source": [
    "subject = \"Apple Inc\"\n",
    "lang = 'en'"
   ]
  },
  {
   "cell_type": "code",
   "execution_count": 16,
   "id": "afe44264-2e75-421c-8874-bffe23eb3ec3",
   "metadata": {},
   "outputs": [],
   "source": [
    "docs = myloadlib.loadWiki(subject, lang, 2)"
   ]
  },
  {
   "cell_type": "code",
   "execution_count": 17,
   "id": "857f310e-0286-4612-97a9-d467ac628c11",
   "metadata": {},
   "outputs": [],
   "source": [
    "documents.extend(docs)"
   ]
  },
  {
   "cell_type": "code",
   "execution_count": 18,
   "id": "cc617d94-4ca8-40f2-9900-38501ea437e1",
   "metadata": {},
   "outputs": [
    {
     "data": {
      "text/plain": [
       "5"
      ]
     },
     "execution_count": 18,
     "metadata": {},
     "output_type": "execute_result"
    }
   ],
   "source": [
    "len(documents)"
   ]
  },
  {
   "cell_type": "code",
   "execution_count": 19,
   "id": "94467882-6f48-47da-b63c-f4d9ac59c6ca",
   "metadata": {},
   "outputs": [
    {
     "data": {
      "text/plain": [
       "\"Apple Inc., originally named Apple Computer, Inc., is a multinational corporation that creates and markets consumer electronics and attendant computer software, and is a digital distributor of media content. Apple's core product lines are the iPhone smartphone, iPad tablet computer, and the Macintos\""
      ]
     },
     "execution_count": 19,
     "metadata": {},
     "output_type": "execute_result"
    }
   ],
   "source": [
    "documents[4].page_content[:300]"
   ]
  },
  {
   "cell_type": "markdown",
   "id": "506b15be-89a0-4fad-93d5-2b243d5127ef",
   "metadata": {},
   "source": [
    "### Load data from YouTube video "
   ]
  },
  {
   "cell_type": "code",
   "execution_count": 20,
   "id": "6f7fe7a0-b43e-4154-a52d-3d318160d678",
   "metadata": {},
   "outputs": [],
   "source": [
    "url = 'https://www.youtube.com/watch?v=6kIReB8tYwM'\n",
    "save_dir=\"./youtube/\"\n",
    "lang = 'en'"
   ]
  },
  {
   "cell_type": "code",
   "execution_count": 21,
   "id": "03610260-d0c9-4d9d-917e-980130c922e3",
   "metadata": {},
   "outputs": [
    {
     "data": {
      "text/plain": [
       "'https://www.youtube.com/watch?v=6kIReB8tYwM'"
      ]
     },
     "execution_count": 21,
     "metadata": {},
     "output_type": "execute_result"
    }
   ],
   "source": [
    "url"
   ]
  },
  {
   "cell_type": "code",
   "execution_count": 22,
   "id": "8a3c463d-e303-4774-9200-6c8484b0a454",
   "metadata": {},
   "outputs": [],
   "source": [
    "docs = myloadlib.loadYoutube(url, lang)"
   ]
  },
  {
   "cell_type": "code",
   "execution_count": 23,
   "id": "f873aaa7-8dda-4a2a-a9b5-fd613f609290",
   "metadata": {},
   "outputs": [
    {
     "data": {
      "text/plain": [
       "6"
      ]
     },
     "execution_count": 23,
     "metadata": {},
     "output_type": "execute_result"
    }
   ],
   "source": [
    "documents.extend(docs)\n",
    "len(documents)"
   ]
  },
  {
   "cell_type": "code",
   "execution_count": 24,
   "id": "48ad7e2c-29dd-4759-9c8b-44e8db24b89c",
   "metadata": {},
   "outputs": [
    {
     "data": {
      "text/plain": [
       "'Document'"
      ]
     },
     "execution_count": 24,
     "metadata": {},
     "output_type": "execute_result"
    }
   ],
   "source": [
    "documents[5].type"
   ]
  },
  {
   "cell_type": "code",
   "execution_count": 25,
   "id": "dc1e028b-2e23-43f3-bc3f-eecbaf2a59a7",
   "metadata": {},
   "outputs": [
    {
     "data": {
      "text/plain": [
       "\"Apple was founded on April 1, 1976  by Steve Jobs and Steve Wozniak in a garage in Palo Alto, California. At just 17 years old, Steve Jobs dropped  out of school after only one semester, and for a year and a half he took various courses  to find out what he would like to study. In 1974 he joined Atari as a video game programmer, where he first met Steve Wozniak. At the same time, Steve decided to travel to India  for eight months to study Buddhism. After returning from this trip, Steve Jobs worked again for Atari to create  a circuit board for the Breakout game. Also, at that time, Altair 8800 appeared, a computer that had to be assembled by customers  but with which nothing could be done. That was until Bill Gates and Paul Allen  wrote the BASIC programming language so that rudimentary calculations could be made. Steve Jobs saw this as an opportunity to make money  and turned to Steve Wozniak who had the knowledge to make a computer. But to achieve this, they needed money. So Jobs sold his car, a Volkswagen,  and Wozniak sold his HP computer. With this money, they launched Apple Computer Company  on April 1, 1976 through a partnership with Ronald Wayne. In this way, the three were able to create  Apple I computers that they sold for a year without a monitor, keyboard or case, which have been included since 1977. Later, Jobs found a way to sell computers. It has partnered with The Byte Shop to  sell 50 Apple I computers for $666.66. But, unfortunately, the three did not  have enough money to deliver the order, so they contacted a component supplier to give them a credit for 30 days, and will return the money after the order is delivered. In terms of profit, Jobs and Wozniak took 45% each, and Wayne received only 10% of the company's money. But immediately after the company was founded,  Ronald Wayne sold his 10% stake for $800. He was also the one who drew the first  Apple logo and wrote the Apple I user manual. One year after its inception, Apple Inc.  received the first investment: $92,000.  Success was guaranteed, so the Apple II  was launched, along with its own monitor,  open architecture and colorful graphics. Apple II was very successful, so Apple III was not long in coming. It was launched in 1980 in collaboration with IBM. With each passing day, the founders of Apple became millionaires. Steve Jobs became increasingly convinced that the future  belonged to computer-friendly graphical user interfaces, so in 1983 he launched the Apple Lisa, the first personal computer with a graphical interface. Subsequently, its commercialization proved to be a failure  due to the high price and the limited number of applications. Steve Wozniak also left Apple in 1983, and then Jobs put John Sculley, president  of PepsiCo, as CEO hoping to grow the company. So, in 1984, Apple launched the Macintosh 128K, which was successful, but then dropped dramatically due to the high price,  low speed and software limitations. A conflict ensued between Steve Jobs  and John Sculley over the different vision, and Steve left the company in 1985 and founded NeXT  with some of his employees. Jobs launched here the NeXTSTEP Operating System, which was later bought by Apple for 430 million dollars. At the time, Apple was on the verge of bankruptcy,  when Steve Jobs returned to lead the company as CEO in 1997.  Since then, the company's fate has changed. They began development for new products, and in 1998 launched the iMac which was sold  in over 800,000 units in the first five months. In 2001, the first Apple stores were  opened in Virginia and California, Mac OS X was launched, the portable product iPod was introduced on the market, and in 2003 they launched the first  digital platform to sells music, iTunes, which is fast becoming the market leader. In 2007, Apple made the most profitable  launch in its history, the iPhone, Apple's first touchscreen phone. Given the success of the iPhone,  Apple launched in 2010 the iPad, the first tablet that could replace a computer. Unfortunately, diagnosed with pancreatic cancer in 2003, Steve Jobs died in 2011, and was taken over by Tim Cook,  who had already held executive positions since 2009. Even though many believed that Steve Jobs' death would mean the end Apple  Tim Cook has proven that Apple can thrive financially and bring completely new and revolutionary products to market. In 2011, he launched the Siri virtual assistant, and in 2015 he launched the Apple Watch. Right now, Apple is among the most valuable companies in the world, the company's net value at the end of 2020 was $ 65.34 billion,  and its market capitalization is $ 2.08 trillion as of March 15, 2021. Now, finding out what Apple's past was and  knowing where the company is now positioned, some compare it to a religion because it  is not a single product or a single person. Thanks for watching! Don't forget to subscribe and share this video! See you in the next video!\\n \\n \\n \\n \\n \\n \\n \\n \\n \\n \\n \\n \\n \\n \\n \\n \\n \\n \\n \\n \\n \\n \\n \\n \\n \\n \\n \\n \\n \\n \\n\""
      ]
     },
     "execution_count": 25,
     "metadata": {},
     "output_type": "execute_result"
    }
   ],
   "source": [
    "documents[5].page_content"
   ]
  },
  {
   "cell_type": "code",
   "execution_count": 26,
   "id": "ecd5c952-13e0-4511-adf1-bfb25260d86c",
   "metadata": {},
   "outputs": [
    {
     "data": {
      "text/plain": [
       "{'source': './data/apple-from-garage-to-worlds-most-valuable-company.pdf',\n",
       " 'page': 0}"
      ]
     },
     "execution_count": 26,
     "metadata": {},
     "output_type": "execute_result"
    }
   ],
   "source": [
    "documents[0].metadata"
   ]
  },
  {
   "cell_type": "code",
   "execution_count": 27,
   "id": "ea9d48bd-c222-4993-b394-e340e730c26f",
   "metadata": {
    "scrolled": true
   },
   "outputs": [
    {
     "data": {
      "text/plain": [
       "{'title': 'Apple Inc.',\n",
       " 'summary': 'Apple Inc. (formerly Apple Computer, Inc.) is an American multinational corporation and technology company headquartered in Cupertino, California, in Silicon Valley. It designs, develops, and sells consumer electronics, computer software, and online services. Devices include the iPhone, iPad, Mac, Apple Watch, Vision Pro, and Apple TV; operating systems include iOS, iPadOS, and macOS; and software applications and services include iTunes, iCloud, Apple Music, and Apple TV+.\\nFor most of 2011 to 2024, Apple became the world\\'s largest company by market capitalization until Microsoft assumed the position in January 2024. In 2022, Apple was the largest technology company by revenue, with US$394.3 billion. As of 2023, Apple was the fourth-largest personal computer vendor by unit sales, the largest manufacturing company by revenue, and the largest vendor of mobile phones in the world. It is one of the Big Five American information technology companies, alongside Alphabet (the parent company of Google), Amazon, Meta (the parent company of Facebook), and Microsoft.\\nApple was founded as Apple Computer Company on April 1, 1976, to produce and market Steve Wozniak\\'s Apple I personal computer. The company was incorporated by Wozniak and Steve Jobs in 1977. Its second computer, the Apple II, became a best seller as one of the first mass-produced microcomputers. Apple introduced the Lisa in 1983 and the Macintosh in 1984, as some of the first computers to use a graphical user interface and a mouse. By 1985, the company\\'s internal problems included the high cost of its products and power struggles between executives. That year Jobs left Apple to form NeXT, Inc., and Wozniak withdrew to other ventures. The market for personal computers expanded and evolved throughout the 1990s, and Apple lost considerable market share to the lower-priced Wintel duopoly of the Microsoft Windows operating system on Intel-powered PC clones.\\nIn 1997, Apple was weeks away from bankruptcy. To resolve its failed operating system strategy and entice Jobs\\'s return, it bought NeXT. Over the next decade, Jobs guided Apple back to profitability through several tactics including introducing the iMac, iPod, iPhone, and iPad to critical acclaim, launching the \"Think different\" campaign and other memorable advertising campaigns, opening the Apple Store retail chain, and acquiring numerous companies to broaden its product portfolio. Jobs resigned in 2011 for health reasons, and died two months later. He was succeeded as CEO by Tim Cook.\\nApple has received criticism regarding its contractors\\' labor practices, its environmental practices, and its business ethics, including anti-competitive practices and materials sourcing. Nevertheless, it has a large following and a high level of brand loyalty. It has been consistently ranked as one of the world\\'s most valuable brands.\\nApple became the first publicly traded U.S. company to be valued at over $1 trillion in August 2018, then at $2 trillion in August 2020, and at $3 trillion in January 2022. In June 2023, it was valued at just over $3 trillion.',\n",
       " 'source': 'https://en.wikipedia.org/wiki/Apple_Inc.'}"
      ]
     },
     "execution_count": 27,
     "metadata": {},
     "output_type": "execute_result"
    }
   ],
   "source": [
    "documents[3].metadata"
   ]
  },
  {
   "cell_type": "code",
   "execution_count": 28,
   "id": "aa76cbcc-ecc4-4215-8b59-125d79e9092a",
   "metadata": {},
   "outputs": [
    {
     "data": {
      "text/plain": [
       "{'source': '6kIReB8tYwM',\n",
       " 'title': 'History of Apple Company | Steve Jobs to Tim Cook [1976-2021]',\n",
       " 'description': 'Unknown',\n",
       " 'view_count': 84486,\n",
       " 'thumbnail_url': 'https://i.ytimg.com/vi/6kIReB8tYwM/hq720.jpg',\n",
       " 'publish_date': '2021-10-08 00:00:00',\n",
       " 'length': 341,\n",
       " 'author': 'BLASTERTECHNOLOGY'}"
      ]
     },
     "execution_count": 28,
     "metadata": {},
     "output_type": "execute_result"
    }
   ],
   "source": [
    "documents[5].metadata"
   ]
  },
  {
   "cell_type": "markdown",
   "id": "a2d64b25-e7cb-43ad-b5c9-f277d974bc5b",
   "metadata": {},
   "source": [
    "## Task 2\n",
    "Extract, clean, and transform into vectors the text from the original sources, to prepare it for AI\n",
    "processing, analysis, and generation."
   ]
  },
  {
   "cell_type": "markdown",
   "id": "bfa4499e-878b-4817-9100-20da5f8537c3",
   "metadata": {},
   "source": [
    "### Chunking"
   ]
  },
  {
   "cell_type": "markdown",
   "id": "d1932dda-15dc-4b8c-937e-af6e315b13e2",
   "metadata": {},
   "source": [
    "<img src=\"https://miro.medium.com/v2/resize:fit:1400/1*vbrewIpev8fbXJfhZ2qHWQ.png\" height=\"400\" width=\"400\" >"
   ]
  },
  {
   "cell_type": "code",
   "execution_count": 29,
   "id": "d2cc654a-fc4a-47f6-b2b6-769ea56985c4",
   "metadata": {},
   "outputs": [],
   "source": [
    "import myutils\n",
    "from myutils import chunkDocs, langDetect, wordCloud"
   ]
  },
  {
   "cell_type": "code",
   "execution_count": 30,
   "id": "281ed1a8-980f-47d4-8ce6-59fd71ea83ed",
   "metadata": {},
   "outputs": [
    {
     "data": {
      "text/plain": [
       "<module 'myutils' from '/Users/owaisdashti/Software2425/AI_Assignments/OLA5/myutils.py'>"
      ]
     },
     "execution_count": 30,
     "metadata": {},
     "output_type": "execute_result"
    }
   ],
   "source": [
    "import importlib \n",
    "importlib.reload(myutils)"
   ]
  },
  {
   "cell_type": "code",
   "execution_count": 31,
   "id": "e278bafa-2243-4f09-8ee9-1037146c50ab",
   "metadata": {
    "scrolled": true
   },
   "outputs": [
    {
     "data": {
      "text/plain": [
       "[Document(page_content='APPLE: FROM GARAGE TO WORLD’S MOST VALUABLE COMPANY  BY DAG SPICER, SENIOR CURATOR   Apple, as a company, began as the product of a remarkable person- al friendship between two young California friends, Steve Jobs and Stephen Wozniak. Jobs, like Wozniak before him, attended Homestead High School in Cupertino, California, a solidly middle-class', metadata={'source': './data/apple-from-garage-to-worlds-most-valuable-company.pdf', 'page': 0}),\n",
       " Document(page_content='school in the suburbs of Silicon Valley. They met in 1971 through a mutual friend. In about 1975, the two friends began attending meetings of the Home- brew Computer Club, a group of Silicon Valley electronics hobbyists that met to explore the latest in new computer technology.  Wozniak, who had no formal engineering training, designed a new', metadata={'source': './data/apple-from-garage-to-worlds-most-valuable-company.pdf', 'page': 0}),\n",
       " Document(page_content='single-board computer called the Apple-1, he says, “as a way of show- ing off to the people at the Homebrew Club.” Based on an inexpensive microprocessor, the Apple-1 (either pre-assembled or in kit form) was aimed squarely at hobbyists who wanted to own their own computer. The Apple-1 was an elegant design, using minimal parts.', metadata={'source': './data/apple-from-garage-to-worlds-most-valuable-company.pdf', 'page': 0}),\n",
       " Document(page_content='Jobs and Wozniak, ca. 1976 ©Apple, Inc./Joe Melena  Showing insight and faith, Jobs quickly appreciated that there might be a demand for the Apple-1 beyond the geeky mem- bers of the Homebrew Computer Club. He showed one to Paul Terrell, owner of the nearby Mountain View computer store, Byte Shop. Terrell placed an order for 50 of the assembled', metadata={'source': './data/apple-from-garage-to-worlds-most-valuable-company.pdf', 'page': 0}),\n",
       " Document(page_content='circuit boards. To obtain funds to purchase parts for the Apple-1, Jobs had obtained 30 days’ credit from parts suppliers, just long enough to enable the duo to build the computers (mostly in Jobs’ home garage) and get paid for them. To fund the circuit board layout of the Apple-1, Wozniak sold his beloved HP-65 calculator and Jobs his Volkswagen', metadata={'source': './data/apple-from-garage-to-worlds-most-valuable-company.pdf', 'page': 0}),\n",
       " Document(page_content='van. The Byte Shop order brought in $50,000, a “total shock” to Wozniak, who was earning one-tenth of that as an engineer at HP. The sale spurred Jobs into thinking about a new computer that anyone—not just those handy with a soldering iron—could easily afford and use.  Jobs and Wozniak immediately moved forward with a new machine, the Apple II,', metadata={'source': './data/apple-from-garage-to-worlds-most-valuable-company.pdf', 'page': 0}),\n",
       " Document(page_content='which was a massive improvement over the Apple-1. It had an integrated keyboard and case, could plug into a TV set for display, and was ready to run right out of the box. It also had color graphics, which made it unique among competing computers at the time. It was a consumer item, not a kit for hobbyists.  The Apple II was Apple’s first', metadata={'source': './data/apple-from-garage-to-worlds-most-valuable-company.pdf', 'page': 0}),\n",
       " Document(page_content='mass-produced product and Apple advertised it as a computer for everyone, from students to homemakers to business people. The Apple II’s success was unprecedented, especially in home and education markets, and with the 1979 release of the spreadsheet program VisiCalc, the Apple II sold in the millions. The Apple II lived on in various models until', metadata={'source': './data/apple-from-garage-to-worlds-most-valuable-company.pdf', 'page': 0}),\n",
       " Document(page_content='1993, an astonishing 16 years, one of the longest product lifetimes in the history of computing.         Apple II personal computer, 1977 Photo: © Mark Richards Apple’s greatest triumph, however, was the 1984 Macintosh, “the computer for the rest of us.” Macintosh offered users a new way of interacting with a computer: the graphical user interface', metadata={'source': './data/apple-from-garage-to-worlds-most-valuable-company.pdf', 'page': 0}),\n",
       " Document(page_content='(GUI). No longer would people have to learn arcane commands or have specialized training to use a computer. Now everyone who could point and click a mouse (even children) could operate a computer. The Macintosh was revolutionary as a consumer product, stressing intuition and use of a common graphical look and feel over memorization of computer', metadata={'source': './data/apple-from-garage-to-worlds-most-valuable-company.pdf', 'page': 0}),\n",
       " Document(page_content='codes. Macintosh’s GUI made computing understandable to the general public.  In spite of the publicity and its impressive GUI, the Mac sold poorly for the first year. In 1985 Jobs was fired from Apple, partly due to his notoriously difficult management style. In one of the most remarkable “second acts” in business history, he returned to Apple in', metadata={'source': './data/apple-from-garage-to-worlds-most-valuable-company.pdf', 'page': 0}),\n",
       " Document(page_content='1997.', metadata={'source': './data/apple-from-garage-to-worlds-most-valuable-company.pdf', 'page': 0}),\n",
       " Document(page_content='Apple Macintosh, 1984 Photo: © Mark Richards  In the decade Jobs was away, Apple had lost it way and was losing mon- ey at a catastrophic rate. Its product line was bloated and confusing, while its marketing proved ineffective. Microsoft’s Windows and its applications, which had become the de facto standard for personal computing worldwide, had', metadata={'source': './data/apple-from-garage-to-worlds-most-valuable-company.pdf', 'page': 1}),\n",
       " Document(page_content='long since eclipsed Apple’s innovations in user interfaces and software. To make matters worse, Apple seemingly had no strategy for capitalizing on the Internet, which was exploding as a massive force in home and business computing.  Jobs quickly sought new financing, terminated languishing projects, fired hundreds of people, and focused the', metadata={'source': './data/apple-from-garage-to-worlds-most-valuable-company.pdf', 'page': 1}),\n",
       " Document(page_content='company on a desktop computer and a laptop computer that would appeal to professionals and general consumers. The first desktop computer from the new Jobs era was the iMac in 1998. Ultimately available in several vibrant colors, the iMac emphasized connection to the Internet and—Jobs’ mantra—simplicity. Out of the box, the iMac could connect to', metadata={'source': './data/apple-from-garage-to-worlds-most-valuable-company.pdf', 'page': 1}),\n",
       " Document(page_content='the Internet in just two easy steps. “There is no Step 3,” Apple claimed. The iMac and its distinctive design also marked the first tangible collaboration between Jobs and Jonathan Ive, the British-born designer with whom Jobs would form a legendary partnership.  Innovations came in rapid-fire succession. In 2001 Apple introduced OS X, the new', metadata={'source': './data/apple-from-garage-to-worlds-most-valuable-company.pdf', 'page': 1}),\n",
       " Document(page_content='operating system for the Mac platform, marking a total redesign of the Mac operating system from the ground up.  That same year Apple opened its first retail store, in Tysons Corner, Virginia. It was a daring step at a time when computer companies had long abandoned their own branded retail outlets in favor of “big box” electronic superstores and', metadata={'source': './data/apple-from-garage-to-worlds-most-valuable-company.pdf', 'page': 1}),\n",
       " Document(page_content='online retailers. In an Apple store, products were stylishly arranged for direct use by customers in a minimalist, laboratory-like zone of utilitarian consumerism. A “Genius Bar,” staffed by Apple experts, solved customer problems in-store.  The most momentous event of 2001, however, was the introduction of the iPod digital music player. Although', metadata={'source': './data/apple-from-garage-to-worlds-most-valuable-company.pdf', 'page': 1}),\n",
       " Document(page_content='not a new idea, Apple’s take on the device featured an easy- to-use interface and, thanks to new miniaturized hard drive technology, a prodigious amount of music storage. Jobs announced the iPod with the slogan “1,000 songs in your pocket.” Music was sync’d to the iPod through the iTunes software application, another Apple innovation. As of', metadata={'source': './data/apple-from-garage-to-worlds-most-valuable-company.pdf', 'page': 1}),\n",
       " Document(page_content='October 2014, more than 400 million iPods had been sold worldwide.  In 2003 Jobs introduced an even more radical innovation: the iTunes store and music manage- ment system. Jobs convinced powerful and deeply Jobs with the original iMac, 1998 © Apple Inc./Moshe Brakha skeptical music company executives that, together, the iPod and iTunes', metadata={'source': './data/apple-from-garage-to-worlds-most-valuable-company.pdf', 'page': 1}),\n",
       " Document(page_content='represented a legitimate and profitable alternative to music piracy, which was then rampant. In exchange, Jobs won a revolutionary concession from the music industry: a flat-rate pricing of 99 cents per downloaded song. The iTunes concept revolutionized the retail music industry and sounded the death knell for brick-and-mortar record stores. As of', metadata={'source': './data/apple-from-garage-to-worlds-most-valuable-company.pdf', 'page': 1}),\n",
       " Document(page_content='February 2013, the iTunes music store had sold more than 25 billion songs.    iPod Evaluation and Test Prototype, 2001 Photo: © Mark Richards The iPod marked a turning point in Apple’s strategy. Jobs sought to move Apple beyond computers and into consumer devices. It was a bold gamble but the success of the iPod and iTunes ecosystem showed that', metadata={'source': './data/apple-from-garage-to-worlds-most-valuable-company.pdf', 'page': 1}),\n",
       " Document(page_content='the strategy could win on two levels: it eroded tradi- tional industry structures and it catapulted Apple into a widely recognized global consum- er brand.', metadata={'source': './data/apple-from-garage-to-worlds-most-valuable-company.pdf', 'page': 1}),\n",
       " Document(page_content='Formally recognizing that Apple had become more than a computer company at the 2007 Macworld trade show, Jobs announced that Apple would drop the word “Computer” from its name and become simply “Apple Inc.” Jobs also saved the customary “one more thing” portion of his presentation for a blockbuster announcement, the iPhone. He described it as', metadata={'source': './data/apple-from-garage-to-worlds-most-valuable-company.pdf', 'page': 2}),\n",
       " Document(page_content='nothing less than the reinvention of the telephone: a combination “widescreen iPod with touch controls,” a “revolutionary mobile phone,” and a “breakthrough Internet communicator.”  When the iPhone went on sale, thousands of people worldwide waited patiently outside Apple stores, sometimes for days, to be one of the first to own one. Like the iPod', metadata={'source': './data/apple-from-garage-to-worlds-most-valuable-company.pdf', 'page': 2}),\n",
       " Document(page_content='before it, the iPhone sold briskly and transformed another industry (telephones) by making the smartphone an established category of “must-have” devices, for everyone from teenagers to business executives. The iPhone was a computer at its core: like the iPod, it ran on Apple’s iOS operating system. Also like the iPod, users downloaded apps', metadata={'source': './data/apple-from-garage-to-worlds-most-valuable-company.pdf', 'page': 2}),\n",
       " Document(page_content='(applications) from the iTunes App Store, launched in July 2008. By October 2014, more than 85 billion apps had been downloaded.  Apple’s last revolutionary product before Steve Jobs passed away on October 5, 2011, was the iPad, a tablet computer optimized for media consumption, quick emails, and web browsing. Like the previous iPod and iPhone,', metadata={'source': './data/apple-from-garage-to-worlds-most-valuable-company.pdf', 'page': 2}),\n",
       " Document(page_content='the iPad pioneered a new set of experiences and possibilities for users. Within a year of launch, software developers had created more than 100,000 apps for the device, ranging from navigation aids to cameras to wildly popular games.  One of the visions articulated by Jobs was to create an ecosystem in which Apple products could thrive. The iTunes', metadata={'source': './data/apple-from-garage-to-worlds-most-valuable-company.pdf', 'page': 2}),\n",
       " Document(page_content='and App Store are thus as critical to the success of these devices (and Apple) as the devices themselves, establishing Apple not simply as a brilliantly innovative product company but also as a massive-scale global content distribution company.  On August 21, 2012, Apple became the most valuable company in history, with a market capitalization of', metadata={'source': './data/apple-from-garage-to-worlds-most-valuable-company.pdf', 'page': 2}),\n",
       " Document(page_content='$620 billion. The company’s story touches upon many aspects of the American dream: its humble origins, the “wilderness years” when Jobs sought to find his next great project (as well as himself), his triumphant return, and the new frontiers Jobs and Apple explored and then settled. Over its history, Apple has persisted, surviving near-death', metadata={'source': './data/apple-from-garage-to-worlds-most-valuable-company.pdf', 'page': 2}),\n",
       " Document(page_content='experiences, changing market conditions, constantly changing technology, and stiff competition. Ultimately, it focused on a strategy of combining high-end consumer devices with groundbreaking software and a built-in e-commerce ecosystem.  Despite Jobs no longer being at Apple, the company continues to innovate, highlighting Apple’s world-class', metadata={'source': './data/apple-from-garage-to-worlds-most-valuable-company.pdf', 'page': 2}),\n",
       " Document(page_content='technical and design talent accumulated and honed over many years. As Jobs himself remarked, “My model for business is The Beatles. They were four guys who kept each other’s kind of negative tendencies in check. They balanced each other and the total was greater than the sum of the parts. That’s how I see busi- ness: great things in business are', metadata={'source': './data/apple-from-garage-to-worlds-most-valuable-company.pdf', 'page': 2}),\n",
       " Document(page_content='never done by one person; they’re done by a team of people.”        iPhone, 2007 Photo: © Mark Richards', metadata={'source': './data/apple-from-garage-to-worlds-most-valuable-company.pdf', 'page': 2}),\n",
       " Document(page_content='Apple Inc. (formerly Apple Computer, Inc.) is an American multinational corporation and technology company headquartered in Cupertino, California, in Silicon Valley. It designs, develops, and sells consumer electronics, computer software, and online services. Devices include the iPhone, iPad, Mac, Apple Watch, Vision Pro, and Apple TV; operating', metadata={'title': 'Apple Inc.', 'summary': 'Apple Inc. (formerly Apple Computer, Inc.) is an American multinational corporation and technology company headquartered in Cupertino, California, in Silicon Valley. It designs, develops, and sells consumer electronics, computer software, and online services. Devices include the iPhone, iPad, Mac, Apple Watch, Vision Pro, and Apple TV; operating systems include iOS, iPadOS, and macOS; and software applications and services include iTunes, iCloud, Apple Music, and Apple TV+.\\nFor most of 2011 to 2024, Apple became the world\\'s largest company by market capitalization until Microsoft assumed the position in January 2024. In 2022, Apple was the largest technology company by revenue, with US$394.3 billion. As of 2023, Apple was the fourth-largest personal computer vendor by unit sales, the largest manufacturing company by revenue, and the largest vendor of mobile phones in the world. It is one of the Big Five American information technology companies, alongside Alphabet (the parent company of Google), Amazon, Meta (the parent company of Facebook), and Microsoft.\\nApple was founded as Apple Computer Company on April 1, 1976, to produce and market Steve Wozniak\\'s Apple I personal computer. The company was incorporated by Wozniak and Steve Jobs in 1977. Its second computer, the Apple II, became a best seller as one of the first mass-produced microcomputers. Apple introduced the Lisa in 1983 and the Macintosh in 1984, as some of the first computers to use a graphical user interface and a mouse. By 1985, the company\\'s internal problems included the high cost of its products and power struggles between executives. That year Jobs left Apple to form NeXT, Inc., and Wozniak withdrew to other ventures. The market for personal computers expanded and evolved throughout the 1990s, and Apple lost considerable market share to the lower-priced Wintel duopoly of the Microsoft Windows operating system on Intel-powered PC clones.\\nIn 1997, Apple was weeks away from bankruptcy. To resolve its failed operating system strategy and entice Jobs\\'s return, it bought NeXT. Over the next decade, Jobs guided Apple back to profitability through several tactics including introducing the iMac, iPod, iPhone, and iPad to critical acclaim, launching the \"Think different\" campaign and other memorable advertising campaigns, opening the Apple Store retail chain, and acquiring numerous companies to broaden its product portfolio. Jobs resigned in 2011 for health reasons, and died two months later. He was succeeded as CEO by Tim Cook.\\nApple has received criticism regarding its contractors\\' labor practices, its environmental practices, and its business ethics, including anti-competitive practices and materials sourcing. Nevertheless, it has a large following and a high level of brand loyalty. It has been consistently ranked as one of the world\\'s most valuable brands.\\nApple became the first publicly traded U.S. company to be valued at over $1 trillion in August 2018, then at $2 trillion in August 2020, and at $3 trillion in January 2022. In June 2023, it was valued at just over $3 trillion.', 'source': 'https://en.wikipedia.org/wiki/Apple_Inc.'}),\n",
       " Document(page_content='systems include iOS, iPadOS, and macOS; and software applications and services include iTunes, iCloud, Apple Music, and Apple TV+.', metadata={'title': 'Apple Inc.', 'summary': 'Apple Inc. (formerly Apple Computer, Inc.) is an American multinational corporation and technology company headquartered in Cupertino, California, in Silicon Valley. It designs, develops, and sells consumer electronics, computer software, and online services. Devices include the iPhone, iPad, Mac, Apple Watch, Vision Pro, and Apple TV; operating systems include iOS, iPadOS, and macOS; and software applications and services include iTunes, iCloud, Apple Music, and Apple TV+.\\nFor most of 2011 to 2024, Apple became the world\\'s largest company by market capitalization until Microsoft assumed the position in January 2024. In 2022, Apple was the largest technology company by revenue, with US$394.3 billion. As of 2023, Apple was the fourth-largest personal computer vendor by unit sales, the largest manufacturing company by revenue, and the largest vendor of mobile phones in the world. It is one of the Big Five American information technology companies, alongside Alphabet (the parent company of Google), Amazon, Meta (the parent company of Facebook), and Microsoft.\\nApple was founded as Apple Computer Company on April 1, 1976, to produce and market Steve Wozniak\\'s Apple I personal computer. The company was incorporated by Wozniak and Steve Jobs in 1977. Its second computer, the Apple II, became a best seller as one of the first mass-produced microcomputers. Apple introduced the Lisa in 1983 and the Macintosh in 1984, as some of the first computers to use a graphical user interface and a mouse. By 1985, the company\\'s internal problems included the high cost of its products and power struggles between executives. That year Jobs left Apple to form NeXT, Inc., and Wozniak withdrew to other ventures. The market for personal computers expanded and evolved throughout the 1990s, and Apple lost considerable market share to the lower-priced Wintel duopoly of the Microsoft Windows operating system on Intel-powered PC clones.\\nIn 1997, Apple was weeks away from bankruptcy. To resolve its failed operating system strategy and entice Jobs\\'s return, it bought NeXT. Over the next decade, Jobs guided Apple back to profitability through several tactics including introducing the iMac, iPod, iPhone, and iPad to critical acclaim, launching the \"Think different\" campaign and other memorable advertising campaigns, opening the Apple Store retail chain, and acquiring numerous companies to broaden its product portfolio. Jobs resigned in 2011 for health reasons, and died two months later. He was succeeded as CEO by Tim Cook.\\nApple has received criticism regarding its contractors\\' labor practices, its environmental practices, and its business ethics, including anti-competitive practices and materials sourcing. Nevertheless, it has a large following and a high level of brand loyalty. It has been consistently ranked as one of the world\\'s most valuable brands.\\nApple became the first publicly traded U.S. company to be valued at over $1 trillion in August 2018, then at $2 trillion in August 2020, and at $3 trillion in January 2022. In June 2023, it was valued at just over $3 trillion.', 'source': 'https://en.wikipedia.org/wiki/Apple_Inc.'}),\n",
       " Document(page_content=\"For most of 2011 to 2024, Apple became the world's largest company by market capitalization until Microsoft assumed the position in January 2024. In 2022, Apple was the largest technology company by revenue, with US$394.3 billion. As of 2023, Apple was the fourth-largest personal computer vendor by unit sales, the largest manufacturing company by\", metadata={'title': 'Apple Inc.', 'summary': 'Apple Inc. (formerly Apple Computer, Inc.) is an American multinational corporation and technology company headquartered in Cupertino, California, in Silicon Valley. It designs, develops, and sells consumer electronics, computer software, and online services. Devices include the iPhone, iPad, Mac, Apple Watch, Vision Pro, and Apple TV; operating systems include iOS, iPadOS, and macOS; and software applications and services include iTunes, iCloud, Apple Music, and Apple TV+.\\nFor most of 2011 to 2024, Apple became the world\\'s largest company by market capitalization until Microsoft assumed the position in January 2024. In 2022, Apple was the largest technology company by revenue, with US$394.3 billion. As of 2023, Apple was the fourth-largest personal computer vendor by unit sales, the largest manufacturing company by revenue, and the largest vendor of mobile phones in the world. It is one of the Big Five American information technology companies, alongside Alphabet (the parent company of Google), Amazon, Meta (the parent company of Facebook), and Microsoft.\\nApple was founded as Apple Computer Company on April 1, 1976, to produce and market Steve Wozniak\\'s Apple I personal computer. The company was incorporated by Wozniak and Steve Jobs in 1977. Its second computer, the Apple II, became a best seller as one of the first mass-produced microcomputers. Apple introduced the Lisa in 1983 and the Macintosh in 1984, as some of the first computers to use a graphical user interface and a mouse. By 1985, the company\\'s internal problems included the high cost of its products and power struggles between executives. That year Jobs left Apple to form NeXT, Inc., and Wozniak withdrew to other ventures. The market for personal computers expanded and evolved throughout the 1990s, and Apple lost considerable market share to the lower-priced Wintel duopoly of the Microsoft Windows operating system on Intel-powered PC clones.\\nIn 1997, Apple was weeks away from bankruptcy. To resolve its failed operating system strategy and entice Jobs\\'s return, it bought NeXT. Over the next decade, Jobs guided Apple back to profitability through several tactics including introducing the iMac, iPod, iPhone, and iPad to critical acclaim, launching the \"Think different\" campaign and other memorable advertising campaigns, opening the Apple Store retail chain, and acquiring numerous companies to broaden its product portfolio. Jobs resigned in 2011 for health reasons, and died two months later. He was succeeded as CEO by Tim Cook.\\nApple has received criticism regarding its contractors\\' labor practices, its environmental practices, and its business ethics, including anti-competitive practices and materials sourcing. Nevertheless, it has a large following and a high level of brand loyalty. It has been consistently ranked as one of the world\\'s most valuable brands.\\nApple became the first publicly traded U.S. company to be valued at over $1 trillion in August 2018, then at $2 trillion in August 2020, and at $3 trillion in January 2022. In June 2023, it was valued at just over $3 trillion.', 'source': 'https://en.wikipedia.org/wiki/Apple_Inc.'}),\n",
       " Document(page_content='revenue, and the largest vendor of mobile phones in the world. It is one of the Big Five American information technology companies, alongside Alphabet (the parent company of Google), Amazon, Meta (the parent company of Facebook), and Microsoft.', metadata={'title': 'Apple Inc.', 'summary': 'Apple Inc. (formerly Apple Computer, Inc.) is an American multinational corporation and technology company headquartered in Cupertino, California, in Silicon Valley. It designs, develops, and sells consumer electronics, computer software, and online services. Devices include the iPhone, iPad, Mac, Apple Watch, Vision Pro, and Apple TV; operating systems include iOS, iPadOS, and macOS; and software applications and services include iTunes, iCloud, Apple Music, and Apple TV+.\\nFor most of 2011 to 2024, Apple became the world\\'s largest company by market capitalization until Microsoft assumed the position in January 2024. In 2022, Apple was the largest technology company by revenue, with US$394.3 billion. As of 2023, Apple was the fourth-largest personal computer vendor by unit sales, the largest manufacturing company by revenue, and the largest vendor of mobile phones in the world. It is one of the Big Five American information technology companies, alongside Alphabet (the parent company of Google), Amazon, Meta (the parent company of Facebook), and Microsoft.\\nApple was founded as Apple Computer Company on April 1, 1976, to produce and market Steve Wozniak\\'s Apple I personal computer. The company was incorporated by Wozniak and Steve Jobs in 1977. Its second computer, the Apple II, became a best seller as one of the first mass-produced microcomputers. Apple introduced the Lisa in 1983 and the Macintosh in 1984, as some of the first computers to use a graphical user interface and a mouse. By 1985, the company\\'s internal problems included the high cost of its products and power struggles between executives. That year Jobs left Apple to form NeXT, Inc., and Wozniak withdrew to other ventures. The market for personal computers expanded and evolved throughout the 1990s, and Apple lost considerable market share to the lower-priced Wintel duopoly of the Microsoft Windows operating system on Intel-powered PC clones.\\nIn 1997, Apple was weeks away from bankruptcy. To resolve its failed operating system strategy and entice Jobs\\'s return, it bought NeXT. Over the next decade, Jobs guided Apple back to profitability through several tactics including introducing the iMac, iPod, iPhone, and iPad to critical acclaim, launching the \"Think different\" campaign and other memorable advertising campaigns, opening the Apple Store retail chain, and acquiring numerous companies to broaden its product portfolio. Jobs resigned in 2011 for health reasons, and died two months later. He was succeeded as CEO by Tim Cook.\\nApple has received criticism regarding its contractors\\' labor practices, its environmental practices, and its business ethics, including anti-competitive practices and materials sourcing. Nevertheless, it has a large following and a high level of brand loyalty. It has been consistently ranked as one of the world\\'s most valuable brands.\\nApple became the first publicly traded U.S. company to be valued at over $1 trillion in August 2018, then at $2 trillion in August 2020, and at $3 trillion in January 2022. In June 2023, it was valued at just over $3 trillion.', 'source': 'https://en.wikipedia.org/wiki/Apple_Inc.'}),\n",
       " Document(page_content=\"Apple was founded as Apple Computer Company on April 1, 1976, to produce and market Steve Wozniak's Apple I personal computer. The company was incorporated by Wozniak and Steve Jobs in 1977. Its second computer, the Apple II, became a best seller as one of the first mass-produced microcomputers. Apple introduced the Lisa in 1983 and the Macintosh\", metadata={'title': 'Apple Inc.', 'summary': 'Apple Inc. (formerly Apple Computer, Inc.) is an American multinational corporation and technology company headquartered in Cupertino, California, in Silicon Valley. It designs, develops, and sells consumer electronics, computer software, and online services. Devices include the iPhone, iPad, Mac, Apple Watch, Vision Pro, and Apple TV; operating systems include iOS, iPadOS, and macOS; and software applications and services include iTunes, iCloud, Apple Music, and Apple TV+.\\nFor most of 2011 to 2024, Apple became the world\\'s largest company by market capitalization until Microsoft assumed the position in January 2024. In 2022, Apple was the largest technology company by revenue, with US$394.3 billion. As of 2023, Apple was the fourth-largest personal computer vendor by unit sales, the largest manufacturing company by revenue, and the largest vendor of mobile phones in the world. It is one of the Big Five American information technology companies, alongside Alphabet (the parent company of Google), Amazon, Meta (the parent company of Facebook), and Microsoft.\\nApple was founded as Apple Computer Company on April 1, 1976, to produce and market Steve Wozniak\\'s Apple I personal computer. The company was incorporated by Wozniak and Steve Jobs in 1977. Its second computer, the Apple II, became a best seller as one of the first mass-produced microcomputers. Apple introduced the Lisa in 1983 and the Macintosh in 1984, as some of the first computers to use a graphical user interface and a mouse. By 1985, the company\\'s internal problems included the high cost of its products and power struggles between executives. That year Jobs left Apple to form NeXT, Inc., and Wozniak withdrew to other ventures. The market for personal computers expanded and evolved throughout the 1990s, and Apple lost considerable market share to the lower-priced Wintel duopoly of the Microsoft Windows operating system on Intel-powered PC clones.\\nIn 1997, Apple was weeks away from bankruptcy. To resolve its failed operating system strategy and entice Jobs\\'s return, it bought NeXT. Over the next decade, Jobs guided Apple back to profitability through several tactics including introducing the iMac, iPod, iPhone, and iPad to critical acclaim, launching the \"Think different\" campaign and other memorable advertising campaigns, opening the Apple Store retail chain, and acquiring numerous companies to broaden its product portfolio. Jobs resigned in 2011 for health reasons, and died two months later. He was succeeded as CEO by Tim Cook.\\nApple has received criticism regarding its contractors\\' labor practices, its environmental practices, and its business ethics, including anti-competitive practices and materials sourcing. Nevertheless, it has a large following and a high level of brand loyalty. It has been consistently ranked as one of the world\\'s most valuable brands.\\nApple became the first publicly traded U.S. company to be valued at over $1 trillion in August 2018, then at $2 trillion in August 2020, and at $3 trillion in January 2022. In June 2023, it was valued at just over $3 trillion.', 'source': 'https://en.wikipedia.org/wiki/Apple_Inc.'}),\n",
       " Document(page_content=\"in 1984, as some of the first computers to use a graphical user interface and a mouse. By 1985, the company's internal problems included the high cost of its products and power struggles between executives. That year Jobs left Apple to form NeXT, Inc., and Wozniak withdrew to other ventures. The market for personal computers expanded and evolved\", metadata={'title': 'Apple Inc.', 'summary': 'Apple Inc. (formerly Apple Computer, Inc.) is an American multinational corporation and technology company headquartered in Cupertino, California, in Silicon Valley. It designs, develops, and sells consumer electronics, computer software, and online services. Devices include the iPhone, iPad, Mac, Apple Watch, Vision Pro, and Apple TV; operating systems include iOS, iPadOS, and macOS; and software applications and services include iTunes, iCloud, Apple Music, and Apple TV+.\\nFor most of 2011 to 2024, Apple became the world\\'s largest company by market capitalization until Microsoft assumed the position in January 2024. In 2022, Apple was the largest technology company by revenue, with US$394.3 billion. As of 2023, Apple was the fourth-largest personal computer vendor by unit sales, the largest manufacturing company by revenue, and the largest vendor of mobile phones in the world. It is one of the Big Five American information technology companies, alongside Alphabet (the parent company of Google), Amazon, Meta (the parent company of Facebook), and Microsoft.\\nApple was founded as Apple Computer Company on April 1, 1976, to produce and market Steve Wozniak\\'s Apple I personal computer. The company was incorporated by Wozniak and Steve Jobs in 1977. Its second computer, the Apple II, became a best seller as one of the first mass-produced microcomputers. Apple introduced the Lisa in 1983 and the Macintosh in 1984, as some of the first computers to use a graphical user interface and a mouse. By 1985, the company\\'s internal problems included the high cost of its products and power struggles between executives. That year Jobs left Apple to form NeXT, Inc., and Wozniak withdrew to other ventures. The market for personal computers expanded and evolved throughout the 1990s, and Apple lost considerable market share to the lower-priced Wintel duopoly of the Microsoft Windows operating system on Intel-powered PC clones.\\nIn 1997, Apple was weeks away from bankruptcy. To resolve its failed operating system strategy and entice Jobs\\'s return, it bought NeXT. Over the next decade, Jobs guided Apple back to profitability through several tactics including introducing the iMac, iPod, iPhone, and iPad to critical acclaim, launching the \"Think different\" campaign and other memorable advertising campaigns, opening the Apple Store retail chain, and acquiring numerous companies to broaden its product portfolio. Jobs resigned in 2011 for health reasons, and died two months later. He was succeeded as CEO by Tim Cook.\\nApple has received criticism regarding its contractors\\' labor practices, its environmental practices, and its business ethics, including anti-competitive practices and materials sourcing. Nevertheless, it has a large following and a high level of brand loyalty. It has been consistently ranked as one of the world\\'s most valuable brands.\\nApple became the first publicly traded U.S. company to be valued at over $1 trillion in August 2018, then at $2 trillion in August 2020, and at $3 trillion in January 2022. In June 2023, it was valued at just over $3 trillion.', 'source': 'https://en.wikipedia.org/wiki/Apple_Inc.'}),\n",
       " Document(page_content='throughout the 1990s, and Apple lost considerable market share to the lower-priced Wintel duopoly of the Microsoft Windows operating system on Intel-powered PC clones.', metadata={'title': 'Apple Inc.', 'summary': 'Apple Inc. (formerly Apple Computer, Inc.) is an American multinational corporation and technology company headquartered in Cupertino, California, in Silicon Valley. It designs, develops, and sells consumer electronics, computer software, and online services. Devices include the iPhone, iPad, Mac, Apple Watch, Vision Pro, and Apple TV; operating systems include iOS, iPadOS, and macOS; and software applications and services include iTunes, iCloud, Apple Music, and Apple TV+.\\nFor most of 2011 to 2024, Apple became the world\\'s largest company by market capitalization until Microsoft assumed the position in January 2024. In 2022, Apple was the largest technology company by revenue, with US$394.3 billion. As of 2023, Apple was the fourth-largest personal computer vendor by unit sales, the largest manufacturing company by revenue, and the largest vendor of mobile phones in the world. It is one of the Big Five American information technology companies, alongside Alphabet (the parent company of Google), Amazon, Meta (the parent company of Facebook), and Microsoft.\\nApple was founded as Apple Computer Company on April 1, 1976, to produce and market Steve Wozniak\\'s Apple I personal computer. The company was incorporated by Wozniak and Steve Jobs in 1977. Its second computer, the Apple II, became a best seller as one of the first mass-produced microcomputers. Apple introduced the Lisa in 1983 and the Macintosh in 1984, as some of the first computers to use a graphical user interface and a mouse. By 1985, the company\\'s internal problems included the high cost of its products and power struggles between executives. That year Jobs left Apple to form NeXT, Inc., and Wozniak withdrew to other ventures. The market for personal computers expanded and evolved throughout the 1990s, and Apple lost considerable market share to the lower-priced Wintel duopoly of the Microsoft Windows operating system on Intel-powered PC clones.\\nIn 1997, Apple was weeks away from bankruptcy. To resolve its failed operating system strategy and entice Jobs\\'s return, it bought NeXT. Over the next decade, Jobs guided Apple back to profitability through several tactics including introducing the iMac, iPod, iPhone, and iPad to critical acclaim, launching the \"Think different\" campaign and other memorable advertising campaigns, opening the Apple Store retail chain, and acquiring numerous companies to broaden its product portfolio. Jobs resigned in 2011 for health reasons, and died two months later. He was succeeded as CEO by Tim Cook.\\nApple has received criticism regarding its contractors\\' labor practices, its environmental practices, and its business ethics, including anti-competitive practices and materials sourcing. Nevertheless, it has a large following and a high level of brand loyalty. It has been consistently ranked as one of the world\\'s most valuable brands.\\nApple became the first publicly traded U.S. company to be valued at over $1 trillion in August 2018, then at $2 trillion in August 2020, and at $3 trillion in January 2022. In June 2023, it was valued at just over $3 trillion.', 'source': 'https://en.wikipedia.org/wiki/Apple_Inc.'}),\n",
       " Document(page_content='In 1997, Apple was weeks away from bankruptcy. To resolve its failed operating system strategy and entice Jobs\\'s return, it bought NeXT. Over the next decade, Jobs guided Apple back to profitability through several tactics including introducing the iMac, iPod, iPhone, and iPad to critical acclaim, launching the \"Think different\" campaign and other', metadata={'title': 'Apple Inc.', 'summary': 'Apple Inc. (formerly Apple Computer, Inc.) is an American multinational corporation and technology company headquartered in Cupertino, California, in Silicon Valley. It designs, develops, and sells consumer electronics, computer software, and online services. Devices include the iPhone, iPad, Mac, Apple Watch, Vision Pro, and Apple TV; operating systems include iOS, iPadOS, and macOS; and software applications and services include iTunes, iCloud, Apple Music, and Apple TV+.\\nFor most of 2011 to 2024, Apple became the world\\'s largest company by market capitalization until Microsoft assumed the position in January 2024. In 2022, Apple was the largest technology company by revenue, with US$394.3 billion. As of 2023, Apple was the fourth-largest personal computer vendor by unit sales, the largest manufacturing company by revenue, and the largest vendor of mobile phones in the world. It is one of the Big Five American information technology companies, alongside Alphabet (the parent company of Google), Amazon, Meta (the parent company of Facebook), and Microsoft.\\nApple was founded as Apple Computer Company on April 1, 1976, to produce and market Steve Wozniak\\'s Apple I personal computer. The company was incorporated by Wozniak and Steve Jobs in 1977. Its second computer, the Apple II, became a best seller as one of the first mass-produced microcomputers. Apple introduced the Lisa in 1983 and the Macintosh in 1984, as some of the first computers to use a graphical user interface and a mouse. By 1985, the company\\'s internal problems included the high cost of its products and power struggles between executives. That year Jobs left Apple to form NeXT, Inc., and Wozniak withdrew to other ventures. The market for personal computers expanded and evolved throughout the 1990s, and Apple lost considerable market share to the lower-priced Wintel duopoly of the Microsoft Windows operating system on Intel-powered PC clones.\\nIn 1997, Apple was weeks away from bankruptcy. To resolve its failed operating system strategy and entice Jobs\\'s return, it bought NeXT. Over the next decade, Jobs guided Apple back to profitability through several tactics including introducing the iMac, iPod, iPhone, and iPad to critical acclaim, launching the \"Think different\" campaign and other memorable advertising campaigns, opening the Apple Store retail chain, and acquiring numerous companies to broaden its product portfolio. Jobs resigned in 2011 for health reasons, and died two months later. He was succeeded as CEO by Tim Cook.\\nApple has received criticism regarding its contractors\\' labor practices, its environmental practices, and its business ethics, including anti-competitive practices and materials sourcing. Nevertheless, it has a large following and a high level of brand loyalty. It has been consistently ranked as one of the world\\'s most valuable brands.\\nApple became the first publicly traded U.S. company to be valued at over $1 trillion in August 2018, then at $2 trillion in August 2020, and at $3 trillion in January 2022. In June 2023, it was valued at just over $3 trillion.', 'source': 'https://en.wikipedia.org/wiki/Apple_Inc.'}),\n",
       " Document(page_content='memorable advertising campaigns, opening the Apple Store retail chain, and acquiring numerous companies to broaden its product portfolio. Jobs resigned in 2011 for health reasons, and died two months later. He was succeeded as CEO by Tim Cook.', metadata={'title': 'Apple Inc.', 'summary': 'Apple Inc. (formerly Apple Computer, Inc.) is an American multinational corporation and technology company headquartered in Cupertino, California, in Silicon Valley. It designs, develops, and sells consumer electronics, computer software, and online services. Devices include the iPhone, iPad, Mac, Apple Watch, Vision Pro, and Apple TV; operating systems include iOS, iPadOS, and macOS; and software applications and services include iTunes, iCloud, Apple Music, and Apple TV+.\\nFor most of 2011 to 2024, Apple became the world\\'s largest company by market capitalization until Microsoft assumed the position in January 2024. In 2022, Apple was the largest technology company by revenue, with US$394.3 billion. As of 2023, Apple was the fourth-largest personal computer vendor by unit sales, the largest manufacturing company by revenue, and the largest vendor of mobile phones in the world. It is one of the Big Five American information technology companies, alongside Alphabet (the parent company of Google), Amazon, Meta (the parent company of Facebook), and Microsoft.\\nApple was founded as Apple Computer Company on April 1, 1976, to produce and market Steve Wozniak\\'s Apple I personal computer. The company was incorporated by Wozniak and Steve Jobs in 1977. Its second computer, the Apple II, became a best seller as one of the first mass-produced microcomputers. Apple introduced the Lisa in 1983 and the Macintosh in 1984, as some of the first computers to use a graphical user interface and a mouse. By 1985, the company\\'s internal problems included the high cost of its products and power struggles between executives. That year Jobs left Apple to form NeXT, Inc., and Wozniak withdrew to other ventures. The market for personal computers expanded and evolved throughout the 1990s, and Apple lost considerable market share to the lower-priced Wintel duopoly of the Microsoft Windows operating system on Intel-powered PC clones.\\nIn 1997, Apple was weeks away from bankruptcy. To resolve its failed operating system strategy and entice Jobs\\'s return, it bought NeXT. Over the next decade, Jobs guided Apple back to profitability through several tactics including introducing the iMac, iPod, iPhone, and iPad to critical acclaim, launching the \"Think different\" campaign and other memorable advertising campaigns, opening the Apple Store retail chain, and acquiring numerous companies to broaden its product portfolio. Jobs resigned in 2011 for health reasons, and died two months later. He was succeeded as CEO by Tim Cook.\\nApple has received criticism regarding its contractors\\' labor practices, its environmental practices, and its business ethics, including anti-competitive practices and materials sourcing. Nevertheless, it has a large following and a high level of brand loyalty. It has been consistently ranked as one of the world\\'s most valuable brands.\\nApple became the first publicly traded U.S. company to be valued at over $1 trillion in August 2018, then at $2 trillion in August 2020, and at $3 trillion in January 2022. In June 2023, it was valued at just over $3 trillion.', 'source': 'https://en.wikipedia.org/wiki/Apple_Inc.'}),\n",
       " Document(page_content=\"Apple has received criticism regarding its contractors' labor practices, its environmental practices, and its business ethics, including anti-competitive practices and materials sourcing. Nevertheless, it has a large following and a high level of brand loyalty. It has been consistently ranked as one of the world's most valuable brands.\", metadata={'title': 'Apple Inc.', 'summary': 'Apple Inc. (formerly Apple Computer, Inc.) is an American multinational corporation and technology company headquartered in Cupertino, California, in Silicon Valley. It designs, develops, and sells consumer electronics, computer software, and online services. Devices include the iPhone, iPad, Mac, Apple Watch, Vision Pro, and Apple TV; operating systems include iOS, iPadOS, and macOS; and software applications and services include iTunes, iCloud, Apple Music, and Apple TV+.\\nFor most of 2011 to 2024, Apple became the world\\'s largest company by market capitalization until Microsoft assumed the position in January 2024. In 2022, Apple was the largest technology company by revenue, with US$394.3 billion. As of 2023, Apple was the fourth-largest personal computer vendor by unit sales, the largest manufacturing company by revenue, and the largest vendor of mobile phones in the world. It is one of the Big Five American information technology companies, alongside Alphabet (the parent company of Google), Amazon, Meta (the parent company of Facebook), and Microsoft.\\nApple was founded as Apple Computer Company on April 1, 1976, to produce and market Steve Wozniak\\'s Apple I personal computer. The company was incorporated by Wozniak and Steve Jobs in 1977. Its second computer, the Apple II, became a best seller as one of the first mass-produced microcomputers. Apple introduced the Lisa in 1983 and the Macintosh in 1984, as some of the first computers to use a graphical user interface and a mouse. By 1985, the company\\'s internal problems included the high cost of its products and power struggles between executives. That year Jobs left Apple to form NeXT, Inc., and Wozniak withdrew to other ventures. The market for personal computers expanded and evolved throughout the 1990s, and Apple lost considerable market share to the lower-priced Wintel duopoly of the Microsoft Windows operating system on Intel-powered PC clones.\\nIn 1997, Apple was weeks away from bankruptcy. To resolve its failed operating system strategy and entice Jobs\\'s return, it bought NeXT. Over the next decade, Jobs guided Apple back to profitability through several tactics including introducing the iMac, iPod, iPhone, and iPad to critical acclaim, launching the \"Think different\" campaign and other memorable advertising campaigns, opening the Apple Store retail chain, and acquiring numerous companies to broaden its product portfolio. Jobs resigned in 2011 for health reasons, and died two months later. He was succeeded as CEO by Tim Cook.\\nApple has received criticism regarding its contractors\\' labor practices, its environmental practices, and its business ethics, including anti-competitive practices and materials sourcing. Nevertheless, it has a large following and a high level of brand loyalty. It has been consistently ranked as one of the world\\'s most valuable brands.\\nApple became the first publicly traded U.S. company to be valued at over $1 trillion in August 2018, then at $2 trillion in August 2020, and at $3 trillion in January 2022. In June 2023, it was valued at just over $3 trillion.', 'source': 'https://en.wikipedia.org/wiki/Apple_Inc.'}),\n",
       " Document(page_content='Apple became the first publicly traded U.S. company to be valued at over $1 trillion in August 2018, then at $2 trillion in August 2020, and at $3 trillion in January 2022. In June 2023, it was valued at just over $3 trillion.', metadata={'title': 'Apple Inc.', 'summary': 'Apple Inc. (formerly Apple Computer, Inc.) is an American multinational corporation and technology company headquartered in Cupertino, California, in Silicon Valley. It designs, develops, and sells consumer electronics, computer software, and online services. Devices include the iPhone, iPad, Mac, Apple Watch, Vision Pro, and Apple TV; operating systems include iOS, iPadOS, and macOS; and software applications and services include iTunes, iCloud, Apple Music, and Apple TV+.\\nFor most of 2011 to 2024, Apple became the world\\'s largest company by market capitalization until Microsoft assumed the position in January 2024. In 2022, Apple was the largest technology company by revenue, with US$394.3 billion. As of 2023, Apple was the fourth-largest personal computer vendor by unit sales, the largest manufacturing company by revenue, and the largest vendor of mobile phones in the world. It is one of the Big Five American information technology companies, alongside Alphabet (the parent company of Google), Amazon, Meta (the parent company of Facebook), and Microsoft.\\nApple was founded as Apple Computer Company on April 1, 1976, to produce and market Steve Wozniak\\'s Apple I personal computer. The company was incorporated by Wozniak and Steve Jobs in 1977. Its second computer, the Apple II, became a best seller as one of the first mass-produced microcomputers. Apple introduced the Lisa in 1983 and the Macintosh in 1984, as some of the first computers to use a graphical user interface and a mouse. By 1985, the company\\'s internal problems included the high cost of its products and power struggles between executives. That year Jobs left Apple to form NeXT, Inc., and Wozniak withdrew to other ventures. The market for personal computers expanded and evolved throughout the 1990s, and Apple lost considerable market share to the lower-priced Wintel duopoly of the Microsoft Windows operating system on Intel-powered PC clones.\\nIn 1997, Apple was weeks away from bankruptcy. To resolve its failed operating system strategy and entice Jobs\\'s return, it bought NeXT. Over the next decade, Jobs guided Apple back to profitability through several tactics including introducing the iMac, iPod, iPhone, and iPad to critical acclaim, launching the \"Think different\" campaign and other memorable advertising campaigns, opening the Apple Store retail chain, and acquiring numerous companies to broaden its product portfolio. Jobs resigned in 2011 for health reasons, and died two months later. He was succeeded as CEO by Tim Cook.\\nApple has received criticism regarding its contractors\\' labor practices, its environmental practices, and its business ethics, including anti-competitive practices and materials sourcing. Nevertheless, it has a large following and a high level of brand loyalty. It has been consistently ranked as one of the world\\'s most valuable brands.\\nApple became the first publicly traded U.S. company to be valued at over $1 trillion in August 2018, then at $2 trillion in August 2020, and at $3 trillion in January 2022. In June 2023, it was valued at just over $3 trillion.', 'source': 'https://en.wikipedia.org/wiki/Apple_Inc.'}),\n",
       " Document(page_content='== History ==\\n\\n\\n=== 1976–1980: Founding and incorporation ===', metadata={'title': 'Apple Inc.', 'summary': 'Apple Inc. (formerly Apple Computer, Inc.) is an American multinational corporation and technology company headquartered in Cupertino, California, in Silicon Valley. It designs, develops, and sells consumer electronics, computer software, and online services. Devices include the iPhone, iPad, Mac, Apple Watch, Vision Pro, and Apple TV; operating systems include iOS, iPadOS, and macOS; and software applications and services include iTunes, iCloud, Apple Music, and Apple TV+.\\nFor most of 2011 to 2024, Apple became the world\\'s largest company by market capitalization until Microsoft assumed the position in January 2024. In 2022, Apple was the largest technology company by revenue, with US$394.3 billion. As of 2023, Apple was the fourth-largest personal computer vendor by unit sales, the largest manufacturing company by revenue, and the largest vendor of mobile phones in the world. It is one of the Big Five American information technology companies, alongside Alphabet (the parent company of Google), Amazon, Meta (the parent company of Facebook), and Microsoft.\\nApple was founded as Apple Computer Company on April 1, 1976, to produce and market Steve Wozniak\\'s Apple I personal computer. The company was incorporated by Wozniak and Steve Jobs in 1977. Its second computer, the Apple II, became a best seller as one of the first mass-produced microcomputers. Apple introduced the Lisa in 1983 and the Macintosh in 1984, as some of the first computers to use a graphical user interface and a mouse. By 1985, the company\\'s internal problems included the high cost of its products and power struggles between executives. That year Jobs left Apple to form NeXT, Inc., and Wozniak withdrew to other ventures. The market for personal computers expanded and evolved throughout the 1990s, and Apple lost considerable market share to the lower-priced Wintel duopoly of the Microsoft Windows operating system on Intel-powered PC clones.\\nIn 1997, Apple was weeks away from bankruptcy. To resolve its failed operating system strategy and entice Jobs\\'s return, it bought NeXT. Over the next decade, Jobs guided Apple back to profitability through several tactics including introducing the iMac, iPod, iPhone, and iPad to critical acclaim, launching the \"Think different\" campaign and other memorable advertising campaigns, opening the Apple Store retail chain, and acquiring numerous companies to broaden its product portfolio. Jobs resigned in 2011 for health reasons, and died two months later. He was succeeded as CEO by Tim Cook.\\nApple has received criticism regarding its contractors\\' labor practices, its environmental practices, and its business ethics, including anti-competitive practices and materials sourcing. Nevertheless, it has a large following and a high level of brand loyalty. It has been consistently ranked as one of the world\\'s most valuable brands.\\nApple became the first publicly traded U.S. company to be valued at over $1 trillion in August 2018, then at $2 trillion in August 2020, and at $3 trillion in January 2022. In June 2023, it was valued at just over $3 trillion.', 'source': 'https://en.wikipedia.org/wiki/Apple_Inc.'}),\n",
       " Document(page_content=\"Apple Computer Company was founded on April 1, 1976, by Steve Jobs, Steve Wozniak, and Ronald Wayne as a partnership. The company's first product is the Apple I, a computer designed and hand-built entirely by Wozniak. To finance its creation, Jobs sold his Volkswagen Bus, and Wozniak sold his HP-65 calculator.:\\u200a57\\u200a Neither received the full\", metadata={'title': 'Apple Inc.', 'summary': 'Apple Inc. (formerly Apple Computer, Inc.) is an American multinational corporation and technology company headquartered in Cupertino, California, in Silicon Valley. It designs, develops, and sells consumer electronics, computer software, and online services. Devices include the iPhone, iPad, Mac, Apple Watch, Vision Pro, and Apple TV; operating systems include iOS, iPadOS, and macOS; and software applications and services include iTunes, iCloud, Apple Music, and Apple TV+.\\nFor most of 2011 to 2024, Apple became the world\\'s largest company by market capitalization until Microsoft assumed the position in January 2024. In 2022, Apple was the largest technology company by revenue, with US$394.3 billion. As of 2023, Apple was the fourth-largest personal computer vendor by unit sales, the largest manufacturing company by revenue, and the largest vendor of mobile phones in the world. It is one of the Big Five American information technology companies, alongside Alphabet (the parent company of Google), Amazon, Meta (the parent company of Facebook), and Microsoft.\\nApple was founded as Apple Computer Company on April 1, 1976, to produce and market Steve Wozniak\\'s Apple I personal computer. The company was incorporated by Wozniak and Steve Jobs in 1977. Its second computer, the Apple II, became a best seller as one of the first mass-produced microcomputers. Apple introduced the Lisa in 1983 and the Macintosh in 1984, as some of the first computers to use a graphical user interface and a mouse. By 1985, the company\\'s internal problems included the high cost of its products and power struggles between executives. That year Jobs left Apple to form NeXT, Inc., and Wozniak withdrew to other ventures. The market for personal computers expanded and evolved throughout the 1990s, and Apple lost considerable market share to the lower-priced Wintel duopoly of the Microsoft Windows operating system on Intel-powered PC clones.\\nIn 1997, Apple was weeks away from bankruptcy. To resolve its failed operating system strategy and entice Jobs\\'s return, it bought NeXT. Over the next decade, Jobs guided Apple back to profitability through several tactics including introducing the iMac, iPod, iPhone, and iPad to critical acclaim, launching the \"Think different\" campaign and other memorable advertising campaigns, opening the Apple Store retail chain, and acquiring numerous companies to broaden its product portfolio. Jobs resigned in 2011 for health reasons, and died two months later. He was succeeded as CEO by Tim Cook.\\nApple has received criticism regarding its contractors\\' labor practices, its environmental practices, and its business ethics, including anti-competitive practices and materials sourcing. Nevertheless, it has a large following and a high level of brand loyalty. It has been consistently ranked as one of the world\\'s most valuable brands.\\nApple became the first publicly traded U.S. company to be valued at over $1 trillion in August 2018, then at $2 trillion in August 2020, and at $3 trillion in January 2022. In June 2023, it was valued at just over $3 trillion.', 'source': 'https://en.wikipedia.org/wiki/Apple_Inc.'}),\n",
       " Document(page_content='selling price but in total earned $1,300 (equivalent to $7,000 in 2023). Wozniak debuted the first prototype Apple I at the Homebrew Computer Club in July 1976. The Apple I was sold as a motherboard with CPU, RAM, and basic textual-video chips—a base kit concept which was not yet marketed as a complete personal computer. It was priced soon after', metadata={'title': 'Apple Inc.', 'summary': 'Apple Inc. (formerly Apple Computer, Inc.) is an American multinational corporation and technology company headquartered in Cupertino, California, in Silicon Valley. It designs, develops, and sells consumer electronics, computer software, and online services. Devices include the iPhone, iPad, Mac, Apple Watch, Vision Pro, and Apple TV; operating systems include iOS, iPadOS, and macOS; and software applications and services include iTunes, iCloud, Apple Music, and Apple TV+.\\nFor most of 2011 to 2024, Apple became the world\\'s largest company by market capitalization until Microsoft assumed the position in January 2024. In 2022, Apple was the largest technology company by revenue, with US$394.3 billion. As of 2023, Apple was the fourth-largest personal computer vendor by unit sales, the largest manufacturing company by revenue, and the largest vendor of mobile phones in the world. It is one of the Big Five American information technology companies, alongside Alphabet (the parent company of Google), Amazon, Meta (the parent company of Facebook), and Microsoft.\\nApple was founded as Apple Computer Company on April 1, 1976, to produce and market Steve Wozniak\\'s Apple I personal computer. The company was incorporated by Wozniak and Steve Jobs in 1977. Its second computer, the Apple II, became a best seller as one of the first mass-produced microcomputers. Apple introduced the Lisa in 1983 and the Macintosh in 1984, as some of the first computers to use a graphical user interface and a mouse. By 1985, the company\\'s internal problems included the high cost of its products and power struggles between executives. That year Jobs left Apple to form NeXT, Inc., and Wozniak withdrew to other ventures. The market for personal computers expanded and evolved throughout the 1990s, and Apple lost considerable market share to the lower-priced Wintel duopoly of the Microsoft Windows operating system on Intel-powered PC clones.\\nIn 1997, Apple was weeks away from bankruptcy. To resolve its failed operating system strategy and entice Jobs\\'s return, it bought NeXT. Over the next decade, Jobs guided Apple back to profitability through several tactics including introducing the iMac, iPod, iPhone, and iPad to critical acclaim, launching the \"Think different\" campaign and other memorable advertising campaigns, opening the Apple Store retail chain, and acquiring numerous companies to broaden its product portfolio. Jobs resigned in 2011 for health reasons, and died two months later. He was succeeded as CEO by Tim Cook.\\nApple has received criticism regarding its contractors\\' labor practices, its environmental practices, and its business ethics, including anti-competitive practices and materials sourcing. Nevertheless, it has a large following and a high level of brand loyalty. It has been consistently ranked as one of the world\\'s most valuable brands.\\nApple became the first publicly traded U.S. company to be valued at over $1 trillion in August 2018, then at $2 trillion in August 2020, and at $3 trillion in January 2022. In June 2023, it was valued at just over $3 trillion.', 'source': 'https://en.wikipedia.org/wiki/Apple_Inc.'}),\n",
       " Document(page_content='debut for $666.66 (equivalent to $3,600 in 2023).:\\u200a180\\u200a Wozniak later said he was unaware of the coincidental mark of the beast in the number 666,', metadata={'title': 'Apple Inc.', 'summary': 'Apple Inc. (formerly Apple Computer, Inc.) is an American multinational corporation and technology company headquartered in Cupertino, California, in Silicon Valley. It designs, develops, and sells consumer electronics, computer software, and online services. Devices include the iPhone, iPad, Mac, Apple Watch, Vision Pro, and Apple TV; operating systems include iOS, iPadOS, and macOS; and software applications and services include iTunes, iCloud, Apple Music, and Apple TV+.\\nFor most of 2011 to 2024, Apple became the world\\'s largest company by market capitalization until Microsoft assumed the position in January 2024. In 2022, Apple was the largest technology company by revenue, with US$394.3 billion. As of 2023, Apple was the fourth-largest personal computer vendor by unit sales, the largest manufacturing company by revenue, and the largest vendor of mobile phones in the world. It is one of the Big Five American information technology companies, alongside Alphabet (the parent company of Google), Amazon, Meta (the parent company of Facebook), and Microsoft.\\nApple was founded as Apple Computer Company on April 1, 1976, to produce and market Steve Wozniak\\'s Apple I personal computer. The company was incorporated by Wozniak and Steve Jobs in 1977. Its second computer, the Apple II, became a best seller as one of the first mass-produced microcomputers. Apple introduced the Lisa in 1983 and the Macintosh in 1984, as some of the first computers to use a graphical user interface and a mouse. By 1985, the company\\'s internal problems included the high cost of its products and power struggles between executives. That year Jobs left Apple to form NeXT, Inc., and Wozniak withdrew to other ventures. The market for personal computers expanded and evolved throughout the 1990s, and Apple lost considerable market share to the lower-priced Wintel duopoly of the Microsoft Windows operating system on Intel-powered PC clones.\\nIn 1997, Apple was weeks away from bankruptcy. To resolve its failed operating system strategy and entice Jobs\\'s return, it bought NeXT. Over the next decade, Jobs guided Apple back to profitability through several tactics including introducing the iMac, iPod, iPhone, and iPad to critical acclaim, launching the \"Think different\" campaign and other memorable advertising campaigns, opening the Apple Store retail chain, and acquiring numerous companies to broaden its product portfolio. Jobs resigned in 2011 for health reasons, and died two months later. He was succeeded as CEO by Tim Cook.\\nApple has received criticism regarding its contractors\\' labor practices, its environmental practices, and its business ethics, including anti-competitive practices and materials sourcing. Nevertheless, it has a large following and a high level of brand loyalty. It has been consistently ranked as one of the world\\'s most valuable brands.\\nApple became the first publicly traded U.S. company to be valued at over $1 trillion in August 2018, then at $2 trillion in August 2020, and at $3 trillion in January 2022. In June 2023, it was valued at just over $3 trillion.', 'source': 'https://en.wikipedia.org/wiki/Apple_Inc.'}),\n",
       " Document(page_content=\"Apple Inc., originally named Apple Computer, Inc., is a multinational corporation that creates and markets consumer electronics and attendant computer software, and is a digital distributor of media content. Apple's core product lines are the iPhone smartphone, iPad tablet computer, and the Macintosh personal computer. The company offers its\", metadata={'title': 'History of Apple Inc.', 'summary': 'Apple Inc., originally named Apple Computer, Inc., is a multinational corporation that creates and markets consumer electronics and attendant computer software, and is a digital distributor of media content. Apple\\'s core product lines are the iPhone smartphone, iPad tablet computer, and the Macintosh personal computer. The company offers its products online and has a chain of retail stores known as Apple Stores. Founders Steve Jobs, Steve Wozniak, and Ronald Wayne created Apple Computer Co. on April 1, 1976, to market Wozniak\\'s Apple I desktop computer, and Jobs and Wozniak incorporated the company on January 3, 1977, in Cupertino, California.\\nFor more than three decades, Apple Computer was predominantly a manufacturer of personal computers, including the Apple II, Macintosh, and Power Mac lines, but it faced rocky sales and low market share during the 1990s. Jobs, who had been ousted from the company in 1985, returned to Apple in 1997 after his company NeXT was bought by Apple. The following year he became the company\\'s interim CEO, which later became permanent. Jobs subsequently instilled a new corporate philosophy of recognizable products and simple design, starting with the original iMac in 1998.\\nWith the introduction of the successful iPod music player in 2001 and iTunes Music Store in 2003, Apple established itself as a leader in the consumer electronics and media sales industries, leading it to drop \"Computer\" from the company\\'s name in 2007. The company is also known for its iOS range of smartphone, media player, and tablet computer products that began with the iPhone, followed by the iPod Touch and then iPad. As of June 30, 2015, Apple was the largest publicly traded corporation in the world by market capitalization, with an estimated value of US$1 trillion as of August 2, 2018. Apple\\'s worldwide annual revenue in 2010 totaled US$65 billion, growing to US$127.8 billion in 2011 and $156 billion in 2012.', 'source': 'https://en.wikipedia.org/wiki/History_of_Apple_Inc.'}),\n",
       " Document(page_content=\"products online and has a chain of retail stores known as Apple Stores. Founders Steve Jobs, Steve Wozniak, and Ronald Wayne created Apple Computer Co. on April 1, 1976, to market Wozniak's Apple I desktop computer, and Jobs and Wozniak incorporated the company on January 3, 1977, in Cupertino, California.\", metadata={'title': 'History of Apple Inc.', 'summary': 'Apple Inc., originally named Apple Computer, Inc., is a multinational corporation that creates and markets consumer electronics and attendant computer software, and is a digital distributor of media content. Apple\\'s core product lines are the iPhone smartphone, iPad tablet computer, and the Macintosh personal computer. The company offers its products online and has a chain of retail stores known as Apple Stores. Founders Steve Jobs, Steve Wozniak, and Ronald Wayne created Apple Computer Co. on April 1, 1976, to market Wozniak\\'s Apple I desktop computer, and Jobs and Wozniak incorporated the company on January 3, 1977, in Cupertino, California.\\nFor more than three decades, Apple Computer was predominantly a manufacturer of personal computers, including the Apple II, Macintosh, and Power Mac lines, but it faced rocky sales and low market share during the 1990s. Jobs, who had been ousted from the company in 1985, returned to Apple in 1997 after his company NeXT was bought by Apple. The following year he became the company\\'s interim CEO, which later became permanent. Jobs subsequently instilled a new corporate philosophy of recognizable products and simple design, starting with the original iMac in 1998.\\nWith the introduction of the successful iPod music player in 2001 and iTunes Music Store in 2003, Apple established itself as a leader in the consumer electronics and media sales industries, leading it to drop \"Computer\" from the company\\'s name in 2007. The company is also known for its iOS range of smartphone, media player, and tablet computer products that began with the iPhone, followed by the iPod Touch and then iPad. As of June 30, 2015, Apple was the largest publicly traded corporation in the world by market capitalization, with an estimated value of US$1 trillion as of August 2, 2018. Apple\\'s worldwide annual revenue in 2010 totaled US$65 billion, growing to US$127.8 billion in 2011 and $156 billion in 2012.', 'source': 'https://en.wikipedia.org/wiki/History_of_Apple_Inc.'}),\n",
       " Document(page_content='For more than three decades, Apple Computer was predominantly a manufacturer of personal computers, including the Apple II, Macintosh, and Power Mac lines, but it faced rocky sales and low market share during the 1990s. Jobs, who had been ousted from the company in 1985, returned to Apple in 1997 after his company NeXT was bought by Apple. The', metadata={'title': 'History of Apple Inc.', 'summary': 'Apple Inc., originally named Apple Computer, Inc., is a multinational corporation that creates and markets consumer electronics and attendant computer software, and is a digital distributor of media content. Apple\\'s core product lines are the iPhone smartphone, iPad tablet computer, and the Macintosh personal computer. The company offers its products online and has a chain of retail stores known as Apple Stores. Founders Steve Jobs, Steve Wozniak, and Ronald Wayne created Apple Computer Co. on April 1, 1976, to market Wozniak\\'s Apple I desktop computer, and Jobs and Wozniak incorporated the company on January 3, 1977, in Cupertino, California.\\nFor more than three decades, Apple Computer was predominantly a manufacturer of personal computers, including the Apple II, Macintosh, and Power Mac lines, but it faced rocky sales and low market share during the 1990s. Jobs, who had been ousted from the company in 1985, returned to Apple in 1997 after his company NeXT was bought by Apple. The following year he became the company\\'s interim CEO, which later became permanent. Jobs subsequently instilled a new corporate philosophy of recognizable products and simple design, starting with the original iMac in 1998.\\nWith the introduction of the successful iPod music player in 2001 and iTunes Music Store in 2003, Apple established itself as a leader in the consumer electronics and media sales industries, leading it to drop \"Computer\" from the company\\'s name in 2007. The company is also known for its iOS range of smartphone, media player, and tablet computer products that began with the iPhone, followed by the iPod Touch and then iPad. As of June 30, 2015, Apple was the largest publicly traded corporation in the world by market capitalization, with an estimated value of US$1 trillion as of August 2, 2018. Apple\\'s worldwide annual revenue in 2010 totaled US$65 billion, growing to US$127.8 billion in 2011 and $156 billion in 2012.', 'source': 'https://en.wikipedia.org/wiki/History_of_Apple_Inc.'}),\n",
       " Document(page_content=\"following year he became the company's interim CEO, which later became permanent. Jobs subsequently instilled a new corporate philosophy of recognizable products and simple design, starting with the original iMac in 1998.\", metadata={'title': 'History of Apple Inc.', 'summary': 'Apple Inc., originally named Apple Computer, Inc., is a multinational corporation that creates and markets consumer electronics and attendant computer software, and is a digital distributor of media content. Apple\\'s core product lines are the iPhone smartphone, iPad tablet computer, and the Macintosh personal computer. The company offers its products online and has a chain of retail stores known as Apple Stores. Founders Steve Jobs, Steve Wozniak, and Ronald Wayne created Apple Computer Co. on April 1, 1976, to market Wozniak\\'s Apple I desktop computer, and Jobs and Wozniak incorporated the company on January 3, 1977, in Cupertino, California.\\nFor more than three decades, Apple Computer was predominantly a manufacturer of personal computers, including the Apple II, Macintosh, and Power Mac lines, but it faced rocky sales and low market share during the 1990s. Jobs, who had been ousted from the company in 1985, returned to Apple in 1997 after his company NeXT was bought by Apple. The following year he became the company\\'s interim CEO, which later became permanent. Jobs subsequently instilled a new corporate philosophy of recognizable products and simple design, starting with the original iMac in 1998.\\nWith the introduction of the successful iPod music player in 2001 and iTunes Music Store in 2003, Apple established itself as a leader in the consumer electronics and media sales industries, leading it to drop \"Computer\" from the company\\'s name in 2007. The company is also known for its iOS range of smartphone, media player, and tablet computer products that began with the iPhone, followed by the iPod Touch and then iPad. As of June 30, 2015, Apple was the largest publicly traded corporation in the world by market capitalization, with an estimated value of US$1 trillion as of August 2, 2018. Apple\\'s worldwide annual revenue in 2010 totaled US$65 billion, growing to US$127.8 billion in 2011 and $156 billion in 2012.', 'source': 'https://en.wikipedia.org/wiki/History_of_Apple_Inc.'}),\n",
       " Document(page_content='With the introduction of the successful iPod music player in 2001 and iTunes Music Store in 2003, Apple established itself as a leader in the consumer electronics and media sales industries, leading it to drop \"Computer\" from the company\\'s name in 2007. The company is also known for its iOS range of smartphone, media player, and tablet computer', metadata={'title': 'History of Apple Inc.', 'summary': 'Apple Inc., originally named Apple Computer, Inc., is a multinational corporation that creates and markets consumer electronics and attendant computer software, and is a digital distributor of media content. Apple\\'s core product lines are the iPhone smartphone, iPad tablet computer, and the Macintosh personal computer. The company offers its products online and has a chain of retail stores known as Apple Stores. Founders Steve Jobs, Steve Wozniak, and Ronald Wayne created Apple Computer Co. on April 1, 1976, to market Wozniak\\'s Apple I desktop computer, and Jobs and Wozniak incorporated the company on January 3, 1977, in Cupertino, California.\\nFor more than three decades, Apple Computer was predominantly a manufacturer of personal computers, including the Apple II, Macintosh, and Power Mac lines, but it faced rocky sales and low market share during the 1990s. Jobs, who had been ousted from the company in 1985, returned to Apple in 1997 after his company NeXT was bought by Apple. The following year he became the company\\'s interim CEO, which later became permanent. Jobs subsequently instilled a new corporate philosophy of recognizable products and simple design, starting with the original iMac in 1998.\\nWith the introduction of the successful iPod music player in 2001 and iTunes Music Store in 2003, Apple established itself as a leader in the consumer electronics and media sales industries, leading it to drop \"Computer\" from the company\\'s name in 2007. The company is also known for its iOS range of smartphone, media player, and tablet computer products that began with the iPhone, followed by the iPod Touch and then iPad. As of June 30, 2015, Apple was the largest publicly traded corporation in the world by market capitalization, with an estimated value of US$1 trillion as of August 2, 2018. Apple\\'s worldwide annual revenue in 2010 totaled US$65 billion, growing to US$127.8 billion in 2011 and $156 billion in 2012.', 'source': 'https://en.wikipedia.org/wiki/History_of_Apple_Inc.'}),\n",
       " Document(page_content=\"products that began with the iPhone, followed by the iPod Touch and then iPad. As of June 30, 2015, Apple was the largest publicly traded corporation in the world by market capitalization, with an estimated value of US$1 trillion as of August 2, 2018. Apple's worldwide annual revenue in 2010 totaled US$65 billion, growing to US$127.8 billion in\", metadata={'title': 'History of Apple Inc.', 'summary': 'Apple Inc., originally named Apple Computer, Inc., is a multinational corporation that creates and markets consumer electronics and attendant computer software, and is a digital distributor of media content. Apple\\'s core product lines are the iPhone smartphone, iPad tablet computer, and the Macintosh personal computer. The company offers its products online and has a chain of retail stores known as Apple Stores. Founders Steve Jobs, Steve Wozniak, and Ronald Wayne created Apple Computer Co. on April 1, 1976, to market Wozniak\\'s Apple I desktop computer, and Jobs and Wozniak incorporated the company on January 3, 1977, in Cupertino, California.\\nFor more than three decades, Apple Computer was predominantly a manufacturer of personal computers, including the Apple II, Macintosh, and Power Mac lines, but it faced rocky sales and low market share during the 1990s. Jobs, who had been ousted from the company in 1985, returned to Apple in 1997 after his company NeXT was bought by Apple. The following year he became the company\\'s interim CEO, which later became permanent. Jobs subsequently instilled a new corporate philosophy of recognizable products and simple design, starting with the original iMac in 1998.\\nWith the introduction of the successful iPod music player in 2001 and iTunes Music Store in 2003, Apple established itself as a leader in the consumer electronics and media sales industries, leading it to drop \"Computer\" from the company\\'s name in 2007. The company is also known for its iOS range of smartphone, media player, and tablet computer products that began with the iPhone, followed by the iPod Touch and then iPad. As of June 30, 2015, Apple was the largest publicly traded corporation in the world by market capitalization, with an estimated value of US$1 trillion as of August 2, 2018. Apple\\'s worldwide annual revenue in 2010 totaled US$65 billion, growing to US$127.8 billion in 2011 and $156 billion in 2012.', 'source': 'https://en.wikipedia.org/wiki/History_of_Apple_Inc.'}),\n",
       " Document(page_content='2011 and $156 billion in 2012.', metadata={'title': 'History of Apple Inc.', 'summary': 'Apple Inc., originally named Apple Computer, Inc., is a multinational corporation that creates and markets consumer electronics and attendant computer software, and is a digital distributor of media content. Apple\\'s core product lines are the iPhone smartphone, iPad tablet computer, and the Macintosh personal computer. The company offers its products online and has a chain of retail stores known as Apple Stores. Founders Steve Jobs, Steve Wozniak, and Ronald Wayne created Apple Computer Co. on April 1, 1976, to market Wozniak\\'s Apple I desktop computer, and Jobs and Wozniak incorporated the company on January 3, 1977, in Cupertino, California.\\nFor more than three decades, Apple Computer was predominantly a manufacturer of personal computers, including the Apple II, Macintosh, and Power Mac lines, but it faced rocky sales and low market share during the 1990s. Jobs, who had been ousted from the company in 1985, returned to Apple in 1997 after his company NeXT was bought by Apple. The following year he became the company\\'s interim CEO, which later became permanent. Jobs subsequently instilled a new corporate philosophy of recognizable products and simple design, starting with the original iMac in 1998.\\nWith the introduction of the successful iPod music player in 2001 and iTunes Music Store in 2003, Apple established itself as a leader in the consumer electronics and media sales industries, leading it to drop \"Computer\" from the company\\'s name in 2007. The company is also known for its iOS range of smartphone, media player, and tablet computer products that began with the iPhone, followed by the iPod Touch and then iPad. As of June 30, 2015, Apple was the largest publicly traded corporation in the world by market capitalization, with an estimated value of US$1 trillion as of August 2, 2018. Apple\\'s worldwide annual revenue in 2010 totaled US$65 billion, growing to US$127.8 billion in 2011 and $156 billion in 2012.', 'source': 'https://en.wikipedia.org/wiki/History_of_Apple_Inc.'}),\n",
       " Document(page_content='== 1971–1985: Jobs and Wozniak ==\\n\\n\\n=== Pre-foundation ===', metadata={'title': 'History of Apple Inc.', 'summary': 'Apple Inc., originally named Apple Computer, Inc., is a multinational corporation that creates and markets consumer electronics and attendant computer software, and is a digital distributor of media content. Apple\\'s core product lines are the iPhone smartphone, iPad tablet computer, and the Macintosh personal computer. The company offers its products online and has a chain of retail stores known as Apple Stores. Founders Steve Jobs, Steve Wozniak, and Ronald Wayne created Apple Computer Co. on April 1, 1976, to market Wozniak\\'s Apple I desktop computer, and Jobs and Wozniak incorporated the company on January 3, 1977, in Cupertino, California.\\nFor more than three decades, Apple Computer was predominantly a manufacturer of personal computers, including the Apple II, Macintosh, and Power Mac lines, but it faced rocky sales and low market share during the 1990s. Jobs, who had been ousted from the company in 1985, returned to Apple in 1997 after his company NeXT was bought by Apple. The following year he became the company\\'s interim CEO, which later became permanent. Jobs subsequently instilled a new corporate philosophy of recognizable products and simple design, starting with the original iMac in 1998.\\nWith the introduction of the successful iPod music player in 2001 and iTunes Music Store in 2003, Apple established itself as a leader in the consumer electronics and media sales industries, leading it to drop \"Computer\" from the company\\'s name in 2007. The company is also known for its iOS range of smartphone, media player, and tablet computer products that began with the iPhone, followed by the iPod Touch and then iPad. As of June 30, 2015, Apple was the largest publicly traded corporation in the world by market capitalization, with an estimated value of US$1 trillion as of August 2, 2018. Apple\\'s worldwide annual revenue in 2010 totaled US$65 billion, growing to US$127.8 billion in 2011 and $156 billion in 2012.', 'source': 'https://en.wikipedia.org/wiki/History_of_Apple_Inc.'}),\n",
       " Document(page_content='Steve Jobs and Steve Wozniak, referred to collectively as \"the two Steves\", first met in mid-1971, when their mutual friend Bill Fernandez introduced then 21-year-old Wozniak to 16-year-old Jobs. Their first business partnership began in the fall of that year when Wozniak, a self-educated electronics engineer, read an article in Esquire magazine', metadata={'title': 'History of Apple Inc.', 'summary': 'Apple Inc., originally named Apple Computer, Inc., is a multinational corporation that creates and markets consumer electronics and attendant computer software, and is a digital distributor of media content. Apple\\'s core product lines are the iPhone smartphone, iPad tablet computer, and the Macintosh personal computer. The company offers its products online and has a chain of retail stores known as Apple Stores. Founders Steve Jobs, Steve Wozniak, and Ronald Wayne created Apple Computer Co. on April 1, 1976, to market Wozniak\\'s Apple I desktop computer, and Jobs and Wozniak incorporated the company on January 3, 1977, in Cupertino, California.\\nFor more than three decades, Apple Computer was predominantly a manufacturer of personal computers, including the Apple II, Macintosh, and Power Mac lines, but it faced rocky sales and low market share during the 1990s. Jobs, who had been ousted from the company in 1985, returned to Apple in 1997 after his company NeXT was bought by Apple. The following year he became the company\\'s interim CEO, which later became permanent. Jobs subsequently instilled a new corporate philosophy of recognizable products and simple design, starting with the original iMac in 1998.\\nWith the introduction of the successful iPod music player in 2001 and iTunes Music Store in 2003, Apple established itself as a leader in the consumer electronics and media sales industries, leading it to drop \"Computer\" from the company\\'s name in 2007. The company is also known for its iOS range of smartphone, media player, and tablet computer products that began with the iPhone, followed by the iPod Touch and then iPad. As of June 30, 2015, Apple was the largest publicly traded corporation in the world by market capitalization, with an estimated value of US$1 trillion as of August 2, 2018. Apple\\'s worldwide annual revenue in 2010 totaled US$65 billion, growing to US$127.8 billion in 2011 and $156 billion in 2012.', 'source': 'https://en.wikipedia.org/wiki/History_of_Apple_Inc.'}),\n",
       " Document(page_content='that described a device that could place free long-distance phone calls by emitting specific tone chirps. Wozniak started to build his original “blue boxes”, which he tested by calling the Vatican City pretending to be Henry Kissinger wanting to speak to the pope. Jobs managed to sell some two hundred blue boxes for $150 each, and split the profit', metadata={'title': 'History of Apple Inc.', 'summary': 'Apple Inc., originally named Apple Computer, Inc., is a multinational corporation that creates and markets consumer electronics and attendant computer software, and is a digital distributor of media content. Apple\\'s core product lines are the iPhone smartphone, iPad tablet computer, and the Macintosh personal computer. The company offers its products online and has a chain of retail stores known as Apple Stores. Founders Steve Jobs, Steve Wozniak, and Ronald Wayne created Apple Computer Co. on April 1, 1976, to market Wozniak\\'s Apple I desktop computer, and Jobs and Wozniak incorporated the company on January 3, 1977, in Cupertino, California.\\nFor more than three decades, Apple Computer was predominantly a manufacturer of personal computers, including the Apple II, Macintosh, and Power Mac lines, but it faced rocky sales and low market share during the 1990s. Jobs, who had been ousted from the company in 1985, returned to Apple in 1997 after his company NeXT was bought by Apple. The following year he became the company\\'s interim CEO, which later became permanent. Jobs subsequently instilled a new corporate philosophy of recognizable products and simple design, starting with the original iMac in 1998.\\nWith the introduction of the successful iPod music player in 2001 and iTunes Music Store in 2003, Apple established itself as a leader in the consumer electronics and media sales industries, leading it to drop \"Computer\" from the company\\'s name in 2007. The company is also known for its iOS range of smartphone, media player, and tablet computer products that began with the iPhone, followed by the iPod Touch and then iPad. As of June 30, 2015, Apple was the largest publicly traded corporation in the world by market capitalization, with an estimated value of US$1 trillion as of August 2, 2018. Apple\\'s worldwide annual revenue in 2010 totaled US$65 billion, growing to US$127.8 billion in 2011 and $156 billion in 2012.', 'source': 'https://en.wikipedia.org/wiki/History_of_Apple_Inc.'}),\n",
       " Document(page_content='with Wozniak. Jobs later told his biographer that if it hadn\\'t been for Wozniak\\'s blue boxes, \"there wouldn\\'t have been an Apple.\"', metadata={'title': 'History of Apple Inc.', 'summary': 'Apple Inc., originally named Apple Computer, Inc., is a multinational corporation that creates and markets consumer electronics and attendant computer software, and is a digital distributor of media content. Apple\\'s core product lines are the iPhone smartphone, iPad tablet computer, and the Macintosh personal computer. The company offers its products online and has a chain of retail stores known as Apple Stores. Founders Steve Jobs, Steve Wozniak, and Ronald Wayne created Apple Computer Co. on April 1, 1976, to market Wozniak\\'s Apple I desktop computer, and Jobs and Wozniak incorporated the company on January 3, 1977, in Cupertino, California.\\nFor more than three decades, Apple Computer was predominantly a manufacturer of personal computers, including the Apple II, Macintosh, and Power Mac lines, but it faced rocky sales and low market share during the 1990s. Jobs, who had been ousted from the company in 1985, returned to Apple in 1997 after his company NeXT was bought by Apple. The following year he became the company\\'s interim CEO, which later became permanent. Jobs subsequently instilled a new corporate philosophy of recognizable products and simple design, starting with the original iMac in 1998.\\nWith the introduction of the successful iPod music player in 2001 and iTunes Music Store in 2003, Apple established itself as a leader in the consumer electronics and media sales industries, leading it to drop \"Computer\" from the company\\'s name in 2007. The company is also known for its iOS range of smartphone, media player, and tablet computer products that began with the iPhone, followed by the iPod Touch and then iPad. As of June 30, 2015, Apple was the largest publicly traded corporation in the world by market capitalization, with an estimated value of US$1 trillion as of August 2, 2018. Apple\\'s worldwide annual revenue in 2010 totaled US$65 billion, growing to US$127.8 billion in 2011 and $156 billion in 2012.', 'source': 'https://en.wikipedia.org/wiki/History_of_Apple_Inc.'}),\n",
       " Document(page_content='By 1972, Jobs had withdrawn from Reed College and Wozniak from UC Berkeley. Wozniak designed a video terminal that he could use to log on to the minicomputers at Call Computer. Alex Kamradt commissioned the design and sold a small number of them through his firm. Aside from their interest in up-to-date technology, the impetus for the two Steves', metadata={'title': 'History of Apple Inc.', 'summary': 'Apple Inc., originally named Apple Computer, Inc., is a multinational corporation that creates and markets consumer electronics and attendant computer software, and is a digital distributor of media content. Apple\\'s core product lines are the iPhone smartphone, iPad tablet computer, and the Macintosh personal computer. The company offers its products online and has a chain of retail stores known as Apple Stores. Founders Steve Jobs, Steve Wozniak, and Ronald Wayne created Apple Computer Co. on April 1, 1976, to market Wozniak\\'s Apple I desktop computer, and Jobs and Wozniak incorporated the company on January 3, 1977, in Cupertino, California.\\nFor more than three decades, Apple Computer was predominantly a manufacturer of personal computers, including the Apple II, Macintosh, and Power Mac lines, but it faced rocky sales and low market share during the 1990s. Jobs, who had been ousted from the company in 1985, returned to Apple in 1997 after his company NeXT was bought by Apple. The following year he became the company\\'s interim CEO, which later became permanent. Jobs subsequently instilled a new corporate philosophy of recognizable products and simple design, starting with the original iMac in 1998.\\nWith the introduction of the successful iPod music player in 2001 and iTunes Music Store in 2003, Apple established itself as a leader in the consumer electronics and media sales industries, leading it to drop \"Computer\" from the company\\'s name in 2007. The company is also known for its iOS range of smartphone, media player, and tablet computer products that began with the iPhone, followed by the iPod Touch and then iPad. As of June 30, 2015, Apple was the largest publicly traded corporation in the world by market capitalization, with an estimated value of US$1 trillion as of August 2, 2018. Apple\\'s worldwide annual revenue in 2010 totaled US$65 billion, growing to US$127.8 billion in 2011 and $156 billion in 2012.', 'source': 'https://en.wikipedia.org/wiki/History_of_Apple_Inc.'}),\n",
       " Document(page_content='seems to have had another source. In his essay From Satori to Silicon Valley (published 1986), cultural historian Theodore Roszak made the point that Apple Computer emerged from within the West Coast counterculture and the need to produce print-outs, letter labels, and databases. Roszak offers a bit of background on the development of the two', metadata={'title': 'History of Apple Inc.', 'summary': 'Apple Inc., originally named Apple Computer, Inc., is a multinational corporation that creates and markets consumer electronics and attendant computer software, and is a digital distributor of media content. Apple\\'s core product lines are the iPhone smartphone, iPad tablet computer, and the Macintosh personal computer. The company offers its products online and has a chain of retail stores known as Apple Stores. Founders Steve Jobs, Steve Wozniak, and Ronald Wayne created Apple Computer Co. on April 1, 1976, to market Wozniak\\'s Apple I desktop computer, and Jobs and Wozniak incorporated the company on January 3, 1977, in Cupertino, California.\\nFor more than three decades, Apple Computer was predominantly a manufacturer of personal computers, including the Apple II, Macintosh, and Power Mac lines, but it faced rocky sales and low market share during the 1990s. Jobs, who had been ousted from the company in 1985, returned to Apple in 1997 after his company NeXT was bought by Apple. The following year he became the company\\'s interim CEO, which later became permanent. Jobs subsequently instilled a new corporate philosophy of recognizable products and simple design, starting with the original iMac in 1998.\\nWith the introduction of the successful iPod music player in 2001 and iTunes Music Store in 2003, Apple established itself as a leader in the consumer electronics and media sales industries, leading it to drop \"Computer\" from the company\\'s name in 2007. The company is also known for its iOS range of smartphone, media player, and tablet computer products that began with the iPhone, followed by the iPod Touch and then iPad. As of June 30, 2015, Apple was the largest publicly traded corporation in the world by market capitalization, with an estimated value of US$1 trillion as of August 2, 2018. Apple\\'s worldwide annual revenue in 2010 totaled US$65 billion, growing to US$127.8 billion in 2011 and $156 billion in 2012.', 'source': 'https://en.wikipedia.org/wiki/History_of_Apple_Inc.'}),\n",
       " Document(page_content=\"Steves' prototype models.\", metadata={'title': 'History of Apple Inc.', 'summary': 'Apple Inc., originally named Apple Computer, Inc., is a multinational corporation that creates and markets consumer electronics and attendant computer software, and is a digital distributor of media content. Apple\\'s core product lines are the iPhone smartphone, iPad tablet computer, and the Macintosh personal computer. The company offers its products online and has a chain of retail stores known as Apple Stores. Founders Steve Jobs, Steve Wozniak, and Ronald Wayne created Apple Computer Co. on April 1, 1976, to market Wozniak\\'s Apple I desktop computer, and Jobs and Wozniak incorporated the company on January 3, 1977, in Cupertino, California.\\nFor more than three decades, Apple Computer was predominantly a manufacturer of personal computers, including the Apple II, Macintosh, and Power Mac lines, but it faced rocky sales and low market share during the 1990s. Jobs, who had been ousted from the company in 1985, returned to Apple in 1997 after his company NeXT was bought by Apple. The following year he became the company\\'s interim CEO, which later became permanent. Jobs subsequently instilled a new corporate philosophy of recognizable products and simple design, starting with the original iMac in 1998.\\nWith the introduction of the successful iPod music player in 2001 and iTunes Music Store in 2003, Apple established itself as a leader in the consumer electronics and media sales industries, leading it to drop \"Computer\" from the company\\'s name in 2007. The company is also known for its iOS range of smartphone, media player, and tablet computer products that began with the iPhone, followed by the iPod Touch and then iPad. As of June 30, 2015, Apple was the largest publicly traded corporation in the world by market capitalization, with an estimated value of US$1 trillion as of August 2, 2018. Apple\\'s worldwide annual revenue in 2010 totaled US$65 billion, growing to US$127.8 billion in 2011 and $156 billion in 2012.', 'source': 'https://en.wikipedia.org/wiki/History_of_Apple_Inc.'}),\n",
       " Document(page_content='In 1975, the two Steves started attending meetings of the Homebrew Computer Club. New microcomputers such as the Altair 8800 and the IMSAI 8080 inspired Wozniak to build a microprocessor into his video terminal circuit to make a complete computer. At the time the only microcomputer CPUs generally available were the $179 Intel 8080 (equivalent to', metadata={'title': 'History of Apple Inc.', 'summary': 'Apple Inc., originally named Apple Computer, Inc., is a multinational corporation that creates and markets consumer electronics and attendant computer software, and is a digital distributor of media content. Apple\\'s core product lines are the iPhone smartphone, iPad tablet computer, and the Macintosh personal computer. The company offers its products online and has a chain of retail stores known as Apple Stores. Founders Steve Jobs, Steve Wozniak, and Ronald Wayne created Apple Computer Co. on April 1, 1976, to market Wozniak\\'s Apple I desktop computer, and Jobs and Wozniak incorporated the company on January 3, 1977, in Cupertino, California.\\nFor more than three decades, Apple Computer was predominantly a manufacturer of personal computers, including the Apple II, Macintosh, and Power Mac lines, but it faced rocky sales and low market share during the 1990s. Jobs, who had been ousted from the company in 1985, returned to Apple in 1997 after his company NeXT was bought by Apple. The following year he became the company\\'s interim CEO, which later became permanent. Jobs subsequently instilled a new corporate philosophy of recognizable products and simple design, starting with the original iMac in 1998.\\nWith the introduction of the successful iPod music player in 2001 and iTunes Music Store in 2003, Apple established itself as a leader in the consumer electronics and media sales industries, leading it to drop \"Computer\" from the company\\'s name in 2007. The company is also known for its iOS range of smartphone, media player, and tablet computer products that began with the iPhone, followed by the iPod Touch and then iPad. As of June 30, 2015, Apple was the largest publicly traded corporation in the world by market capitalization, with an estimated value of US$1 trillion as of August 2, 2018. Apple\\'s worldwide annual revenue in 2010 totaled US$65 billion, growing to US$127.8 billion in 2011 and $156 billion in 2012.', 'source': 'https://en.wikipedia.org/wiki/History_of_Apple_Inc.'}),\n",
       " Document(page_content='$1,014 in 2023), and the $170 Motorola 6800 (equivalent to $963 in 2023). Wozniak preferred the 68', metadata={'title': 'History of Apple Inc.', 'summary': 'Apple Inc., originally named Apple Computer, Inc., is a multinational corporation that creates and markets consumer electronics and attendant computer software, and is a digital distributor of media content. Apple\\'s core product lines are the iPhone smartphone, iPad tablet computer, and the Macintosh personal computer. The company offers its products online and has a chain of retail stores known as Apple Stores. Founders Steve Jobs, Steve Wozniak, and Ronald Wayne created Apple Computer Co. on April 1, 1976, to market Wozniak\\'s Apple I desktop computer, and Jobs and Wozniak incorporated the company on January 3, 1977, in Cupertino, California.\\nFor more than three decades, Apple Computer was predominantly a manufacturer of personal computers, including the Apple II, Macintosh, and Power Mac lines, but it faced rocky sales and low market share during the 1990s. Jobs, who had been ousted from the company in 1985, returned to Apple in 1997 after his company NeXT was bought by Apple. The following year he became the company\\'s interim CEO, which later became permanent. Jobs subsequently instilled a new corporate philosophy of recognizable products and simple design, starting with the original iMac in 1998.\\nWith the introduction of the successful iPod music player in 2001 and iTunes Music Store in 2003, Apple established itself as a leader in the consumer electronics and media sales industries, leading it to drop \"Computer\" from the company\\'s name in 2007. The company is also known for its iOS range of smartphone, media player, and tablet computer products that began with the iPhone, followed by the iPod Touch and then iPad. As of June 30, 2015, Apple was the largest publicly traded corporation in the world by market capitalization, with an estimated value of US$1 trillion as of August 2, 2018. Apple\\'s worldwide annual revenue in 2010 totaled US$65 billion, growing to US$127.8 billion in 2011 and $156 billion in 2012.', 'source': 'https://en.wikipedia.org/wiki/History_of_Apple_Inc.'}),\n",
       " Document(page_content='Apple was founded on April 1, 1976  by Steve Jobs and Steve Wozniak in a garage in Palo Alto, California. At just 17 years old, Steve Jobs dropped  out of school after only one semester, and for a year and a half he took various courses  to find out what he would like to study. In 1974 he joined Atari as a video game programmer, where he first met', metadata={'source': '6kIReB8tYwM', 'title': 'History of Apple Company | Steve Jobs to Tim Cook [1976-2021]', 'description': 'Unknown', 'view_count': 84486, 'thumbnail_url': 'https://i.ytimg.com/vi/6kIReB8tYwM/hq720.jpg', 'publish_date': '2021-10-08 00:00:00', 'length': 341, 'author': 'BLASTERTECHNOLOGY'}),\n",
       " Document(page_content='Steve Wozniak. At the same time, Steve decided to travel to India  for eight months to study Buddhism. After returning from this trip, Steve Jobs worked again for Atari to create  a circuit board for the Breakout game. Also, at that time, Altair 8800 appeared, a computer that had to be assembled by customers  but with which nothing could be done.', metadata={'source': '6kIReB8tYwM', 'title': 'History of Apple Company | Steve Jobs to Tim Cook [1976-2021]', 'description': 'Unknown', 'view_count': 84486, 'thumbnail_url': 'https://i.ytimg.com/vi/6kIReB8tYwM/hq720.jpg', 'publish_date': '2021-10-08 00:00:00', 'length': 341, 'author': 'BLASTERTECHNOLOGY'}),\n",
       " Document(page_content='That was until Bill Gates and Paul Allen  wrote the BASIC programming language so that rudimentary calculations could be made. Steve Jobs saw this as an opportunity to make money  and turned to Steve Wozniak who had the knowledge to make a computer. But to achieve this, they needed money. So Jobs sold his car, a Volkswagen,  and Wozniak sold his', metadata={'source': '6kIReB8tYwM', 'title': 'History of Apple Company | Steve Jobs to Tim Cook [1976-2021]', 'description': 'Unknown', 'view_count': 84486, 'thumbnail_url': 'https://i.ytimg.com/vi/6kIReB8tYwM/hq720.jpg', 'publish_date': '2021-10-08 00:00:00', 'length': 341, 'author': 'BLASTERTECHNOLOGY'}),\n",
       " Document(page_content='HP computer. With this money, they launched Apple Computer Company  on April 1, 1976 through a partnership with Ronald Wayne. In this way, the three were able to create  Apple I computers that they sold for a year without a monitor, keyboard or case, which have been included since 1977. Later, Jobs found a way to sell computers. It has partnered', metadata={'source': '6kIReB8tYwM', 'title': 'History of Apple Company | Steve Jobs to Tim Cook [1976-2021]', 'description': 'Unknown', 'view_count': 84486, 'thumbnail_url': 'https://i.ytimg.com/vi/6kIReB8tYwM/hq720.jpg', 'publish_date': '2021-10-08 00:00:00', 'length': 341, 'author': 'BLASTERTECHNOLOGY'}),\n",
       " Document(page_content='with The Byte Shop to  sell 50 Apple I computers for $666.66. But, unfortunately, the three did not  have enough money to deliver the order, so they contacted a component supplier to give them a credit for 30 days, and will return the money after the order is delivered. In terms of profit, Jobs and Wozniak took 45% each, and Wayne received only', metadata={'source': '6kIReB8tYwM', 'title': 'History of Apple Company | Steve Jobs to Tim Cook [1976-2021]', 'description': 'Unknown', 'view_count': 84486, 'thumbnail_url': 'https://i.ytimg.com/vi/6kIReB8tYwM/hq720.jpg', 'publish_date': '2021-10-08 00:00:00', 'length': 341, 'author': 'BLASTERTECHNOLOGY'}),\n",
       " Document(page_content=\"10% of the company's money. But immediately after the company was founded,  Ronald Wayne sold his 10% stake for $800. He was also the one who drew the first  Apple logo and wrote the Apple I user manual. One year after its inception, Apple Inc.  received the first investment: $92,000.  Success was guaranteed, so the Apple II  was launched, along\", metadata={'source': '6kIReB8tYwM', 'title': 'History of Apple Company | Steve Jobs to Tim Cook [1976-2021]', 'description': 'Unknown', 'view_count': 84486, 'thumbnail_url': 'https://i.ytimg.com/vi/6kIReB8tYwM/hq720.jpg', 'publish_date': '2021-10-08 00:00:00', 'length': 341, 'author': 'BLASTERTECHNOLOGY'}),\n",
       " Document(page_content='with its own monitor,  open architecture and colorful graphics. Apple II was very successful, so Apple III was not long in coming. It was launched in 1980 in collaboration with IBM. With each passing day, the founders of Apple became millionaires. Steve Jobs became increasingly convinced that the future  belonged to computer-friendly graphical', metadata={'source': '6kIReB8tYwM', 'title': 'History of Apple Company | Steve Jobs to Tim Cook [1976-2021]', 'description': 'Unknown', 'view_count': 84486, 'thumbnail_url': 'https://i.ytimg.com/vi/6kIReB8tYwM/hq720.jpg', 'publish_date': '2021-10-08 00:00:00', 'length': 341, 'author': 'BLASTERTECHNOLOGY'}),\n",
       " Document(page_content='user interfaces, so in 1983 he launched the Apple Lisa, the first personal computer with a graphical interface. Subsequently, its commercialization proved to be a failure  due to the high price and the limited number of applications. Steve Wozniak also left Apple in 1983, and then Jobs put John Sculley, president  of PepsiCo, as CEO hoping to grow', metadata={'source': '6kIReB8tYwM', 'title': 'History of Apple Company | Steve Jobs to Tim Cook [1976-2021]', 'description': 'Unknown', 'view_count': 84486, 'thumbnail_url': 'https://i.ytimg.com/vi/6kIReB8tYwM/hq720.jpg', 'publish_date': '2021-10-08 00:00:00', 'length': 341, 'author': 'BLASTERTECHNOLOGY'}),\n",
       " Document(page_content='the company. So, in 1984, Apple launched the Macintosh 128K, which was successful, but then dropped dramatically due to the high price,  low speed and software limitations. A conflict ensued between Steve Jobs  and John Sculley over the different vision, and Steve left the company in 1985 and founded NeXT  with some of his employees. Jobs launched', metadata={'source': '6kIReB8tYwM', 'title': 'History of Apple Company | Steve Jobs to Tim Cook [1976-2021]', 'description': 'Unknown', 'view_count': 84486, 'thumbnail_url': 'https://i.ytimg.com/vi/6kIReB8tYwM/hq720.jpg', 'publish_date': '2021-10-08 00:00:00', 'length': 341, 'author': 'BLASTERTECHNOLOGY'}),\n",
       " Document(page_content=\"here the NeXTSTEP Operating System, which was later bought by Apple for 430 million dollars. At the time, Apple was on the verge of bankruptcy,  when Steve Jobs returned to lead the company as CEO in 1997.  Since then, the company's fate has changed. They began development for new products, and in 1998 launched the iMac which was sold  in over\", metadata={'source': '6kIReB8tYwM', 'title': 'History of Apple Company | Steve Jobs to Tim Cook [1976-2021]', 'description': 'Unknown', 'view_count': 84486, 'thumbnail_url': 'https://i.ytimg.com/vi/6kIReB8tYwM/hq720.jpg', 'publish_date': '2021-10-08 00:00:00', 'length': 341, 'author': 'BLASTERTECHNOLOGY'}),\n",
       " Document(page_content='800,000 units in the first five months. In 2001, the first Apple stores were  opened in Virginia and California, Mac OS X was launched, the portable product iPod was introduced on the market, and in 2003 they launched the first  digital platform to sells music, iTunes, which is fast becoming the market leader. In 2007, Apple made the most', metadata={'source': '6kIReB8tYwM', 'title': 'History of Apple Company | Steve Jobs to Tim Cook [1976-2021]', 'description': 'Unknown', 'view_count': 84486, 'thumbnail_url': 'https://i.ytimg.com/vi/6kIReB8tYwM/hq720.jpg', 'publish_date': '2021-10-08 00:00:00', 'length': 341, 'author': 'BLASTERTECHNOLOGY'}),\n",
       " Document(page_content=\"profitable  launch in its history, the iPhone, Apple's first touchscreen phone. Given the success of the iPhone,  Apple launched in 2010 the iPad, the first tablet that could replace a computer. Unfortunately, diagnosed with pancreatic cancer in 2003, Steve Jobs died in 2011, and was taken over by Tim Cook,  who had already held executive\", metadata={'source': '6kIReB8tYwM', 'title': 'History of Apple Company | Steve Jobs to Tim Cook [1976-2021]', 'description': 'Unknown', 'view_count': 84486, 'thumbnail_url': 'https://i.ytimg.com/vi/6kIReB8tYwM/hq720.jpg', 'publish_date': '2021-10-08 00:00:00', 'length': 341, 'author': 'BLASTERTECHNOLOGY'}),\n",
       " Document(page_content=\"positions since 2009. Even though many believed that Steve Jobs' death would mean the end Apple  Tim Cook has proven that Apple can thrive financially and bring completely new and revolutionary products to market. In 2011, he launched the Siri virtual assistant, and in 2015 he launched the Apple Watch. Right now, Apple is among the most valuable\", metadata={'source': '6kIReB8tYwM', 'title': 'History of Apple Company | Steve Jobs to Tim Cook [1976-2021]', 'description': 'Unknown', 'view_count': 84486, 'thumbnail_url': 'https://i.ytimg.com/vi/6kIReB8tYwM/hq720.jpg', 'publish_date': '2021-10-08 00:00:00', 'length': 341, 'author': 'BLASTERTECHNOLOGY'}),\n",
       " Document(page_content=\"companies in the world, the company's net value at the end of 2020 was $ 65.34 billion,  and its market capitalization is $ 2.08 trillion as of March 15, 2021. Now, finding out what Apple's past was and  knowing where the company is now positioned, some compare it to a religion because it  is not a single product or a single person. Thanks for\", metadata={'source': '6kIReB8tYwM', 'title': 'History of Apple Company | Steve Jobs to Tim Cook [1976-2021]', 'description': 'Unknown', 'view_count': 84486, 'thumbnail_url': 'https://i.ytimg.com/vi/6kIReB8tYwM/hq720.jpg', 'publish_date': '2021-10-08 00:00:00', 'length': 341, 'author': 'BLASTERTECHNOLOGY'}),\n",
       " Document(page_content=\"watching! Don't forget to subscribe and share this video! See you in the next video!\", metadata={'source': '6kIReB8tYwM', 'title': 'History of Apple Company | Steve Jobs to Tim Cook [1976-2021]', 'description': 'Unknown', 'view_count': 84486, 'thumbnail_url': 'https://i.ytimg.com/vi/6kIReB8tYwM/hq720.jpg', 'publish_date': '2021-10-08 00:00:00', 'length': 341, 'author': 'BLASTERTECHNOLOGY'})]"
      ]
     },
     "execution_count": 31,
     "metadata": {},
     "output_type": "execute_result"
    }
   ],
   "source": [
    "splits = myutils.chunkDocs(documents, 350)  \n",
    "splits"
   ]
  },
  {
   "cell_type": "code",
   "execution_count": 32,
   "id": "41ba7ddb-4125-49ed-9293-fea009eca489",
   "metadata": {},
   "outputs": [
    {
     "data": {
      "text/plain": [
       "79"
      ]
     },
     "execution_count": 32,
     "metadata": {},
     "output_type": "execute_result"
    }
   ],
   "source": [
    "len(splits)"
   ]
  },
  {
   "cell_type": "code",
   "execution_count": 33,
   "id": "cd2041f9-a5c2-4a6e-b81a-be9724eb7afb",
   "metadata": {
    "scrolled": true
   },
   "outputs": [
    {
     "data": {
      "text/plain": [
       "Document(page_content='with its own monitor,  open architecture and colorful graphics. Apple II was very successful, so Apple III was not long in coming. It was launched in 1980 in collaboration with IBM. With each passing day, the founders of Apple became millionaires. Steve Jobs became increasingly convinced that the future  belonged to computer-friendly graphical', metadata={'source': '6kIReB8tYwM', 'title': 'History of Apple Company | Steve Jobs to Tim Cook [1976-2021]', 'description': 'Unknown', 'view_count': 84486, 'thumbnail_url': 'https://i.ytimg.com/vi/6kIReB8tYwM/hq720.jpg', 'publish_date': '2021-10-08 00:00:00', 'length': 341, 'author': 'BLASTERTECHNOLOGY'})"
      ]
     },
     "execution_count": 33,
     "metadata": {},
     "output_type": "execute_result"
    }
   ],
   "source": [
    "splits[70]"
   ]
  },
  {
   "cell_type": "code",
   "execution_count": 34,
   "id": "1bc31418-0cd7-46b7-89d7-805b82ddb7c3",
   "metadata": {},
   "outputs": [
    {
     "data": {
      "text/html": [
       "<div>\n",
       "<style scoped>\n",
       "    .dataframe tbody tr th:only-of-type {\n",
       "        vertical-align: middle;\n",
       "    }\n",
       "\n",
       "    .dataframe tbody tr th {\n",
       "        vertical-align: top;\n",
       "    }\n",
       "\n",
       "    .dataframe thead th {\n",
       "        text-align: right;\n",
       "    }\n",
       "</style>\n",
       "<table border=\"1\" class=\"dataframe\">\n",
       "  <thead>\n",
       "    <tr style=\"text-align: right;\">\n",
       "      <th></th>\n",
       "      <th>page_content</th>\n",
       "      <th>metadata</th>\n",
       "      <th>type</th>\n",
       "    </tr>\n",
       "  </thead>\n",
       "  <tbody>\n",
       "    <tr>\n",
       "      <th>28</th>\n",
       "      <td>(page_content, and App Store are thus as criti...</td>\n",
       "      <td>(metadata, {'source': './data/apple-from-garag...</td>\n",
       "      <td>(type, Document)</td>\n",
       "    </tr>\n",
       "    <tr>\n",
       "      <th>20</th>\n",
       "      <td>(page_content, represented a legitimate and pr...</td>\n",
       "      <td>(metadata, {'source': './data/apple-from-garag...</td>\n",
       "      <td>(type, Document)</td>\n",
       "    </tr>\n",
       "    <tr>\n",
       "      <th>67</th>\n",
       "      <td>(page_content, HP computer. With this money, t...</td>\n",
       "      <td>(metadata, {'source': '6kIReB8tYwM', 'title': ...</td>\n",
       "      <td>(type, Document)</td>\n",
       "    </tr>\n",
       "  </tbody>\n",
       "</table>\n",
       "</div>"
      ],
      "text/plain": [
       "                                         page_content  \\\n",
       "28  (page_content, and App Store are thus as criti...   \n",
       "20  (page_content, represented a legitimate and pr...   \n",
       "67  (page_content, HP computer. With this money, t...   \n",
       "\n",
       "                                             metadata              type  \n",
       "28  (metadata, {'source': './data/apple-from-garag...  (type, Document)  \n",
       "20  (metadata, {'source': './data/apple-from-garag...  (type, Document)  \n",
       "67  (metadata, {'source': '6kIReB8tYwM', 'title': ...  (type, Document)  "
      ]
     },
     "execution_count": 34,
     "metadata": {},
     "output_type": "execute_result"
    }
   ],
   "source": [
    "# put splits in dataframe\n",
    "df = pd.DataFrame(splits, columns=['page_content', 'metadata', 'type'])\n",
    "df.sample(3)"
   ]
  },
  {
   "cell_type": "code",
   "execution_count": 35,
   "id": "147921a4-84fa-43f2-8871-d064d4d7d7e6",
   "metadata": {},
   "outputs": [
    {
     "data": {
      "text/plain": [
       "('page_content',\n",
       " 'APPLE: FROM GARAGE TO WORLD’S MOST VALUABLE COMPANY  BY DAG SPICER, SENIOR CURATOR   Apple, as a company, began as the product of a remarkable person- al friendship between two young California friends, Steve Jobs and Stephen Wozniak. Jobs, like Wozniak before him, attended Homestead High School in Cupertino, California, a solidly middle-class')"
      ]
     },
     "execution_count": 35,
     "metadata": {},
     "output_type": "execute_result"
    }
   ],
   "source": [
    "df['page_content'][0]"
   ]
  },
  {
   "cell_type": "code",
   "execution_count": 36,
   "id": "07926f4d-5fb4-406b-8bd7-9b03e3f94540",
   "metadata": {},
   "outputs": [
    {
     "data": {
      "text/plain": [
       "('metadata',\n",
       " {'source': './data/apple-from-garage-to-worlds-most-valuable-company.pdf',\n",
       "  'page': 0})"
      ]
     },
     "execution_count": 36,
     "metadata": {},
     "output_type": "execute_result"
    }
   ],
   "source": [
    "df['metadata'][0]"
   ]
  },
  {
   "cell_type": "code",
   "execution_count": 37,
   "id": "e46fbf09-c2db-4f99-9757-25d9bab9a230",
   "metadata": {},
   "outputs": [],
   "source": [
    "im, longstring = myutils.wordCloud(df, 'page_content')"
   ]
  },
  {
   "cell_type": "code",
   "execution_count": 38,
   "id": "0d8c729c-4f3d-4660-93d8-8d7c38932a38",
   "metadata": {},
   "outputs": [
    {
     "data": {
      "image/jpeg": "[encoded data removed]",
      "image/png": "[encoded data removed]",
      "text/plain": [
       "<PIL.Image.Image image mode=RGB size=400x200>"
      ]
     },
     "execution_count": 38,
     "metadata": {},
     "output_type": "execute_result"
    }
   ],
   "source": [
    "im"
   ]
  },
  {
   "cell_type": "markdown",
   "id": "27f301c8-ed86-4f7b-b383-c7bee378895e",
   "metadata": {},
   "source": [
    "## Task 3\n",
    "Store the transformed documents in an appropriate software structure, such as vector database\n",
    "and/or knowledge graph."
   ]
  },
  {
   "cell_type": "markdown",
   "id": "db066862-0784-4692-b3ff-d04faaabe64d",
   "metadata": {},
   "source": [
    "### Embeddings"
   ]
  },
  {
   "cell_type": "code",
   "execution_count": 39,
   "id": "4a93714e-860f-4bcc-8817-e669dfea164f",
   "metadata": {},
   "outputs": [],
   "source": [
    "model_name = \"sentence-transformers/all-mpnet-base-v2\"\n",
    "# model_name = \"sentence-transformers/all-MiniLM-l6-v2\"\n",
    "model_kwargs = {'device': 'cpu'}\n",
    "encode_kwargs = {'normalize_embeddings': False}"
   ]
  },
  {
   "cell_type": "code",
   "execution_count": 40,
   "id": "75c98971-d181-44b2-aac8-7b9d266837f8",
   "metadata": {},
   "outputs": [
    {
     "name": "stderr",
     "output_type": "stream",
     "text": [
      "/opt/homebrew/lib/python3.12/site-packages/tqdm/auto.py:21: TqdmWarning: IProgress not found. Please update jupyter and ipywidgets. See https://ipywidgets.readthedocs.io/en/stable/user_install.html\n",
      "  from .autonotebook import tqdm as notebook_tqdm\n",
      "/opt/homebrew/lib/python3.12/site-packages/huggingface_hub/file_download.py:1132: FutureWarning: `resume_download` is deprecated and will be removed in version 1.0.0. Downloads always resume when possible. If you want to force a new download, use `force_download=True`.\n",
      "  warnings.warn(\n",
      "/opt/homebrew/lib/python3.12/site-packages/huggingface_hub/file_download.py:1132: FutureWarning: `resume_download` is deprecated and will be removed in version 1.0.0. Downloads always resume when possible. If you want to force a new download, use `force_download=True`.\n",
      "  warnings.warn(\n"
     ]
    }
   ],
   "source": [
    "embeddings = HuggingFaceEmbeddings(\n",
    "    model_name=model_name,\n",
    "    model_kwargs=model_kwargs,\n",
    "    encode_kwargs=encode_kwargs\n",
    ")"
   ]
  },
  {
   "cell_type": "markdown",
   "id": "eb162fd3-d74a-4bcc-88f3-0f1ad540a4c8",
   "metadata": {},
   "source": [
    "## Task 4\n",
    "Apply the stored content for augmenting a selected pretrained Large Language Model (LLM) in order\n",
    "to improve its ability to understand and participate in communication within your domain of choice."
   ]
  },
  {
   "cell_type": "markdown",
   "id": "b2c46654-4c20-48b9-9ebf-42f661f389fd",
   "metadata": {},
   "source": [
    "<img src=\"https://miro.medium.com/v2/resize:fit:1400/1*0l3sINbM_Rn8oV4oVIjt8A.png\" height=\"400\" width=\"400\" >"
   ]
  },
  {
   "cell_type": "markdown",
   "id": "62b3ddb6-0b9f-4126-8f28-de50e627921e",
   "metadata": {},
   "source": [
    "### Storing the embeddings in Vector Database"
   ]
  },
  {
   "cell_type": "code",
   "execution_count": 41,
   "id": "e2ff2d2d-565c-4304-8138-c9543c60f5c6",
   "metadata": {},
   "outputs": [],
   "source": [
    "persist_directory = '../data/chroma/'\n",
    "\n",
    "# Create the vector store\n",
    "vectordb = Chroma.from_documents(\n",
    "    documents=splits,\n",
    "    embedding=embeddings,\n",
    "    persist_directory=persist_directory\n",
    ")\n",
    "vectordb.persist()"
   ]
  },
  {
   "cell_type": "code",
   "execution_count": 42,
   "id": "62f48393-b696-4939-809b-c30b6d0b1888",
   "metadata": {},
   "outputs": [
    {
     "data": {
      "text/plain": [
       "158"
      ]
     },
     "execution_count": 42,
     "metadata": {},
     "output_type": "execute_result"
    }
   ],
   "source": [
    "vectordb._collection.count()"
   ]
  },
  {
   "cell_type": "markdown",
   "id": "fe85085e-bd16-42a4-841b-c65d77bc3ea5",
   "metadata": {},
   "source": [
    "### Similarity Search"
   ]
  },
  {
   "cell_type": "code",
   "execution_count": 43,
   "id": "dd62dcde-21a1-4ea5-9e28-2a10d347ffa4",
   "metadata": {},
   "outputs": [],
   "source": [
    "query = 'Where is Apple Headquarters located at?'"
   ]
  },
  {
   "cell_type": "code",
   "execution_count": 44,
   "id": "e5c13e0e-fb03-4dcd-aec4-3500285d880c",
   "metadata": {
    "scrolled": true
   },
   "outputs": [
    {
     "data": {
      "text/plain": [
       "[Document(page_content='Apple Inc. (formerly Apple Computer, Inc.) is an American multinational corporation and technology company headquartered in Cupertino, California, in Silicon Valley. It designs, develops, and sells consumer electronics, computer software, and online services. Devices include the iPhone, iPad, Mac, Apple Watch, Vision Pro, and Apple TV; operating', metadata={'source': 'https://en.wikipedia.org/wiki/Apple_Inc.', 'summary': 'Apple Inc. (formerly Apple Computer, Inc.) is an American multinational corporation and technology company headquartered in Cupertino, California, in Silicon Valley. It designs, develops, and sells consumer electronics, computer software, and online services. Devices include the iPhone, iPad, Mac, Apple Watch, Vision Pro, and Apple TV; operating systems include iOS, iPadOS, and macOS; and software applications and services include iTunes, iCloud, Apple Music, and Apple TV+.\\nFor most of 2011 to 2024, Apple became the world\\'s largest company by market capitalization until Microsoft assumed the position in January 2024. In 2022, Apple was the largest technology company by revenue, with US$394.3 billion. As of 2023, Apple was the fourth-largest personal computer vendor by unit sales, the largest manufacturing company by revenue, and the largest vendor of mobile phones in the world. It is one of the Big Five American information technology companies, alongside Alphabet (the parent company of Google), Amazon, Meta (the parent company of Facebook), and Microsoft.\\nApple was founded as Apple Computer Company on April 1, 1976, to produce and market Steve Wozniak\\'s Apple I personal computer. The company was incorporated by Wozniak and Steve Jobs in 1977. Its second computer, the Apple II, became a best seller as one of the first mass-produced microcomputers. Apple introduced the Lisa in 1983 and the Macintosh in 1984, as some of the first computers to use a graphical user interface and a mouse. By 1985, the company\\'s internal problems included the high cost of its products and power struggles between executives. That year Jobs left Apple to form NeXT, Inc., and Wozniak withdrew to other ventures. The market for personal computers expanded and evolved throughout the 1990s, and Apple lost considerable market share to the lower-priced Wintel duopoly of the Microsoft Windows operating system on Intel-powered PC clones.\\nIn 1997, Apple was weeks away from bankruptcy. To resolve its failed operating system strategy and entice Jobs\\'s return, it bought NeXT. Over the next decade, Jobs guided Apple back to profitability through several tactics including introducing the iMac, iPod, iPhone, and iPad to critical acclaim, launching the \"Think different\" campaign and other memorable advertising campaigns, opening the Apple Store retail chain, and acquiring numerous companies to broaden its product portfolio. Jobs resigned in 2011 for health reasons, and died two months later. He was succeeded as CEO by Tim Cook.\\nApple has received criticism regarding its contractors\\' labor practices, its environmental practices, and its business ethics, including anti-competitive practices and materials sourcing. Nevertheless, it has a large following and a high level of brand loyalty. It has been consistently ranked as one of the world\\'s most valuable brands.\\nApple became the first publicly traded U.S. company to be valued at over $1 trillion in August 2018, then at $2 trillion in August 2020, and at $3 trillion in January 2022. In June 2023, it was valued at just over $3 trillion.', 'title': 'Apple Inc.'}),\n",
       " Document(page_content='Apple Inc. (formerly Apple Computer, Inc.) is an American multinational corporation and technology company headquartered in Cupertino, California, in Silicon Valley. It designs, develops, and sells consumer electronics, computer software, and online services. Devices include the iPhone, iPad, Mac, Apple Watch, Vision Pro, and Apple TV; operating', metadata={'source': 'https://en.wikipedia.org/wiki/Apple_Inc.', 'summary': 'Apple Inc. (formerly Apple Computer, Inc.) is an American multinational corporation and technology company headquartered in Cupertino, California, in Silicon Valley. It designs, develops, and sells consumer electronics, computer software, and online services. Devices include the iPhone, iPad, Mac, Apple Watch, Vision Pro, and Apple TV; operating systems include iOS, iPadOS, and macOS; and software applications and services include iTunes, iCloud, Apple Music, and Apple TV+.\\nFor most of 2011 to 2024, Apple became the world\\'s largest company by market capitalization until Microsoft assumed the position in January 2024. In 2022, Apple was the largest technology company by revenue, with US$394.3 billion. As of 2023, Apple was the fourth-largest personal computer vendor by unit sales, the largest manufacturing company by revenue, and the largest vendor of mobile phones in the world. It is one of the Big Five American information technology companies, alongside Alphabet (the parent company of Google), Amazon, Meta (the parent company of Facebook), and Microsoft.\\nApple was founded as Apple Computer Company on April 1, 1976, to produce and market Steve Wozniak\\'s Apple I personal computer. The company was incorporated by Wozniak and Steve Jobs in 1977. Its second computer, the Apple II, became a best seller as one of the first mass-produced microcomputers. Apple introduced the Lisa in 1983 and the Macintosh in 1984, as some of the first computers to use a graphical user interface and a mouse. By 1985, the company\\'s internal problems included the high cost of its products and power struggles between executives. That year Jobs left Apple to form NeXT, Inc., and Wozniak withdrew to other ventures. The market for personal computers expanded and evolved throughout the 1990s, and Apple lost considerable market share to the lower-priced Wintel duopoly of the Microsoft Windows operating system on Intel-powered PC clones.\\nIn 1997, Apple was weeks away from bankruptcy. To resolve its failed operating system strategy and entice Jobs\\'s return, it bought NeXT. Over the next decade, Jobs guided Apple back to profitability through several tactics including introducing the iMac, iPod, iPhone, and iPad to critical acclaim, launching the \"Think different\" campaign and other memorable advertising campaigns, opening the Apple Store retail chain, and acquiring numerous companies to broaden its product portfolio. Jobs resigned in 2011 for health reasons, and died two months later. He was succeeded as CEO by Tim Cook.\\nApple has received criticism regarding its contractors\\' labor practices, its environmental practices, and its business ethics, including anti-competitive practices and materials sourcing. Nevertheless, it has a large following and a high level of brand loyalty. It has been consistently ranked as one of the world\\'s most valuable brands.\\nApple became the first publicly traded U.S. company to be valued at over $1 trillion in August 2018, then at $2 trillion in August 2020, and at $3 trillion in January 2022. In June 2023, it was valued at just over $3 trillion.', 'title': 'Apple Inc.'}),\n",
       " Document(page_content='operating system for the Mac platform, marking a total redesign of the Mac operating system from the ground up.  That same year Apple opened its first retail store, in Tysons Corner, Virginia. It was a daring step at a time when computer companies had long abandoned their own branded retail outlets in favor of “big box” electronic superstores and', metadata={'page': 1, 'source': './data/apple-from-garage-to-worlds-most-valuable-company.pdf'})]"
      ]
     },
     "execution_count": 44,
     "metadata": {},
     "output_type": "execute_result"
    }
   ],
   "source": [
    "answer = vectordb.similarity_search(query, k=3)\n",
    "answer"
   ]
  },
  {
   "cell_type": "code",
   "execution_count": 45,
   "id": "b899f181-00e2-4e5f-8bbf-01435667001e",
   "metadata": {},
   "outputs": [
    {
     "name": "stdout",
     "output_type": "stream",
     "text": [
      "Apple Inc. (formerly Apple Computer, Inc.) is an American multinational corporation and technology company headquartered in Cupertino, California, in Silicon Valley. It designs, develops, and sells consumer electronics, computer software, and online services. Devices include the iPhone, iPad, Mac, Apple Watch, Vision Pro, and Apple TV; operating\n",
      "Apple Inc. (formerly Apple Computer, Inc.) is an American multinational corporation and technology company headquartered in Cupertino, California, in Silicon Valley. It designs, develops, and sells consumer electronics, computer software, and online services. Devices include the iPhone, iPad, Mac, Apple Watch, Vision Pro, and Apple TV; operating\n",
      "operating system for the Mac platform, marking a total redesign of the Mac operating system from the ground up.  That same year Apple opened its first retail store, in Tysons Corner, Virginia. It was a daring step at a time when computer companies had long abandoned their own branded retail outlets in favor of “big box” electronic superstores and\n"
     ]
    }
   ],
   "source": [
    "for d in answer:\n",
    "    print(d.page_content)"
   ]
  },
  {
   "cell_type": "markdown",
   "id": "d963396a-8ab6-4a62-a646-e5bf9ebcfb7f",
   "metadata": {},
   "source": [
    "### Information Retrieval"
   ]
  },
  {
   "cell_type": "code",
   "execution_count": 46,
   "id": "d2221b60-6fd0-4f30-bd7a-a35fb5430189",
   "metadata": {},
   "outputs": [],
   "source": [
    "question = 'When was Apple founded?'"
   ]
  },
  {
   "cell_type": "code",
   "execution_count": 47,
   "id": "01e4472f-6b1d-4f62-a15b-1a0845fd9885",
   "metadata": {},
   "outputs": [],
   "source": [
    "question = 'How many workers does Apple have?'"
   ]
  },
  {
   "cell_type": "code",
   "execution_count": 48,
   "id": "38be3bf3-51f4-4aeb-88ed-eea338ffa85a",
   "metadata": {},
   "outputs": [],
   "source": [
    "question = 'Who is the current CEO of Apple?'"
   ]
  },
  {
   "cell_type": "code",
   "execution_count": 49,
   "id": "fd9ea5ca-993d-42f7-96c0-bedff3e904ea",
   "metadata": {},
   "outputs": [
    {
     "name": "stdout",
     "output_type": "stream",
     "text": [
      "here the NeXTSTEP Operating System, which was later bought by Apple for 430 million dollars. At the time, Apple was on the verge of bankruptcy,  when Steve Jobs returned to lead the company as CEO in 1997.  Since then, the company's fate has changed. They began development for new products, and in 1998 launched the iMac which was sold  in over\n",
      "positions since 2009. Even though many believed that Steve Jobs' death would mean the end Apple  Tim Cook has proven that Apple can thrive financially and bring completely new and revolutionary products to market. In 2011, he launched the Siri virtual assistant, and in 2015 he launched the Apple Watch. Right now, Apple is among the most valuable\n"
     ]
    }
   ],
   "source": [
    "# first, fetch 5 most similar, then choose 4 most diverse\n",
    "answer = vectordb.max_marginal_relevance_search(question, k=2, fetch_k=5)\n",
    "for d in answer:\n",
    "    print(d.page_content)"
   ]
  },
  {
   "cell_type": "markdown",
   "id": "cd68bbe1-fcf2-4e9e-962e-8df8c74df560",
   "metadata": {},
   "source": [
    "<img src=\"https://miro.medium.com/v2/resize:fit:1400/1*y3qPGtgMGHt0In-TnXN8Og.png\" height=\"400\" width=\"400\" >"
   ]
  },
  {
   "cell_type": "markdown",
   "id": "851dbbd9-ee0e-46bd-a862-892d38ed0f05",
   "metadata": {},
   "source": [
    "### Large Language Model\n",
    "Using Ollama\n",
    "\n",
    "How to use? \n",
    "Download ollama from https://ollama.com/download\n",
    "\n",
    "- to start ollama, type in a root terminal 'ollama serve'<br>\n",
    "- in new root terminal type 'ollama run <LLM>'<br>\n",
    "- ask question"
   ]
  },
  {
   "cell_type": "code",
   "execution_count": 50,
   "id": "383eaf43-4967-4515-8afc-e65ab6e0cd2a",
   "metadata": {},
   "outputs": [],
   "source": [
    "from langchain.llms import Ollama\n",
    "from langchain.chains import RetrievalQA\n",
    "from langchain.prompts import PromptTemplate"
   ]
  },
  {
   "cell_type": "code",
   "execution_count": 51,
   "id": "cc8fc17b-8ccf-4b00-a314-2cac80d69840",
   "metadata": {},
   "outputs": [
    {
     "name": "stderr",
     "output_type": "stream",
     "text": [
      "huggingface/tokenizers: The current process just got forked, after parallelism has already been used. Disabling parallelism to avoid deadlocks...\n",
      "To disable this warning, you can either:\n",
      "\t- Avoid using `tokenizers` before the fork if possible\n",
      "\t- Explicitly set the environment variable TOKENIZERS_PARALLELISM=(true | false)\n"
     ]
    },
    {
     "name": "stdout",
     "output_type": "stream",
     "text": [
      "NAME          \tID          \tSIZE  \tMODIFIED     \n",
      "mistral:latest\t61e88e884507\t4.1 GB\t42 hours ago\t\n",
      "llama3:latest \ta6990ed6be41\t4.7 GB\t42 hours ago\t\n"
     ]
    }
   ],
   "source": [
    "!ollama list"
   ]
  },
  {
   "cell_type": "code",
   "execution_count": 52,
   "id": "41ba05c1-b670-48a8-9e44-9af4a9b68517",
   "metadata": {},
   "outputs": [],
   "source": [
    "llm = Ollama(model=\"mistral\", callback_manager = CallbackManager([StreamingStdOutCallbackHandler()]))"
   ]
  },
  {
   "cell_type": "code",
   "execution_count": 53,
   "id": "dee05148-cb39-4f25-8790-8a1a4e83736f",
   "metadata": {},
   "outputs": [],
   "source": [
    "# Build prompt\n",
    "template = \"\"\"Use the following pieces of context to answer the question at the end. \n",
    "If you don't know the answer, just say that you don't know, don't try to make up an answer. \n",
    "Use five sentences maximum. Keep the answer as concise as possible. \n",
    "Always say \"thanks for asking!\" at the end of the answer. \n",
    "\n",
    "{context}\n",
    "\n",
    "Question: {question}\n",
    "\n",
    "Helpful Answer:\n",
    "\"\"\""
   ]
  },
  {
   "cell_type": "code",
   "execution_count": 54,
   "id": "260ee148-3b01-4a77-aacf-874305b9f530",
   "metadata": {},
   "outputs": [],
   "source": [
    "prompt = PromptTemplate.from_template(template)\n",
    "chain = RetrievalQA.from_chain_type(\n",
    "    llm,\n",
    "    retriever=vectordb.as_retriever(),\n",
    "    return_source_documents=True,\n",
    "    chain_type_kwargs={\"prompt\": prompt})"
   ]
  },
  {
   "cell_type": "code",
   "execution_count": 55,
   "id": "e4c0c68b-25f8-461d-a0d8-70a4d118ba2b",
   "metadata": {},
   "outputs": [],
   "source": [
    "question1 = 'What product was the first invention of Apple?'"
   ]
  },
  {
   "cell_type": "code",
   "execution_count": 56,
   "id": "b3ae2b64-07c4-4ca7-9084-10b8556fcba2",
   "metadata": {},
   "outputs": [],
   "source": [
    "question2 = 'When was the Apple founded?'"
   ]
  },
  {
   "cell_type": "code",
   "execution_count": 57,
   "id": "6db00d7d-3514-4e0b-b806-b185608dd7bc",
   "metadata": {},
   "outputs": [],
   "source": [
    "question3 = 'How many workers does the company have?'"
   ]
  },
  {
   "cell_type": "code",
   "execution_count": 58,
   "id": "ca100389-7c37-451f-9d23-655c68cc7b70",
   "metadata": {},
   "outputs": [],
   "source": [
    "question4 = 'Which is the highest paying position at Apple?'"
   ]
  },
  {
   "cell_type": "code",
   "execution_count": 59,
   "id": "1f5c6994-f7f8-46f4-b0bf-1c2901fdb58b",
   "metadata": {},
   "outputs": [],
   "source": [
    "question5 = \"Where is Apple located?\""
   ]
  },
  {
   "cell_type": "code",
   "execution_count": 60,
   "id": "6dc5f9b9-359b-419a-8894-3bfc80a3e52d",
   "metadata": {},
   "outputs": [],
   "source": [
    "question6 = \"How many color combination do the iPhone 15 pro max 128 gbs come in?\""
   ]
  },
  {
   "cell_type": "code",
   "execution_count": 61,
   "id": "05152704-4600-46d7-9c7f-362794ed2a88",
   "metadata": {},
   "outputs": [
    {
     "name": "stderr",
     "output_type": "stream",
     "text": [
      "/opt/homebrew/lib/python3.12/site-packages/langchain_core/_api/deprecation.py:117: LangChainDeprecationWarning: The function `__call__` was deprecated in LangChain 0.1.0 and will be removed in 0.2.0. Use invoke instead.\n",
      "  warn_deprecated(\n"
     ]
    },
    {
     "name": "stdout",
     "output_type": "stream",
     "text": [
      " The first product of Apple was the Apple I personal computer, invented by Steve Wozniak in 1976. The company was founded as a partnership between Wozniak, Steve Jobs, and Ronald Wayne to produce and market this invention. Thanks for asking!"
     ]
    },
    {
     "data": {
      "text/plain": [
       "' The first product of Apple was the Apple I personal computer, invented by Steve Wozniak in 1976. The company was founded as a partnership between Wozniak, Steve Jobs, and Ronald Wayne to produce and market this invention. Thanks for asking!'"
      ]
     },
     "execution_count": 61,
     "metadata": {},
     "output_type": "execute_result"
    }
   ],
   "source": [
    "result = chain({\"query\": question1})\n",
    "result[\"result\"]"
   ]
  },
  {
   "cell_type": "code",
   "execution_count": 62,
   "id": "369d1c9d-8b22-484f-b3e3-8806683f8fb9",
   "metadata": {},
   "outputs": [
    {
     "name": "stdout",
     "output_type": "stream",
     "text": [
      " Apple was founded on April 1, 1976. It was initially a partnership between Steve Jobs, Steve Wozniak, and Ronald Wayne, with their first product being the Apple I computer. The company was later incorporated in 1977. (thanks for asking!)"
     ]
    },
    {
     "data": {
      "text/plain": [
       "' Apple was founded on April 1, 1976. It was initially a partnership between Steve Jobs, Steve Wozniak, and Ronald Wayne, with their first product being the Apple I computer. The company was later incorporated in 1977. (thanks for asking!)'"
      ]
     },
     "execution_count": 62,
     "metadata": {},
     "output_type": "execute_result"
    }
   ],
   "source": [
    "result = chain({\"query\": question2})\n",
    "result[\"result\"]"
   ]
  },
  {
   "cell_type": "code",
   "execution_count": 63,
   "id": "824cc8e6-8168-432f-ba8e-c429b84b47a6",
   "metadata": {},
   "outputs": [
    {
     "name": "stdout",
     "output_type": "stream",
     "text": [
      " Apple's success is not attributed to the actions of one individual but rather a team. The company's worth is estimated at $620 billion. Thanks for asking!"
     ]
    },
    {
     "data": {
      "text/plain": [
       "\" Apple's success is not attributed to the actions of one individual but rather a team. The company's worth is estimated at $620 billion. Thanks for asking!\""
      ]
     },
     "execution_count": 63,
     "metadata": {},
     "output_type": "execute_result"
    }
   ],
   "source": [
    "result = chain({\"query\": question3})\n",
    "result[\"result\"]"
   ]
  },
  {
   "cell_type": "code",
   "execution_count": 64,
   "id": "a79851cd-7706-463a-8922-c3766b14af2d",
   "metadata": {},
   "outputs": [
    {
     "name": "stdout",
     "output_type": "stream",
     "text": [
      " Based on publicly available information, the highest paying positions at Apple are typically found in executive and senior leadership roles. However, salaries can vary greatly depending on specific job titles, location, and experience level. For example, Apple's CEO currently earns a significant salary and stock options. Thanks for asking!"
     ]
    },
    {
     "data": {
      "text/plain": [
       "\" Based on publicly available information, the highest paying positions at Apple are typically found in executive and senior leadership roles. However, salaries can vary greatly depending on specific job titles, location, and experience level. For example, Apple's CEO currently earns a significant salary and stock options. Thanks for asking!\""
      ]
     },
     "execution_count": 64,
     "metadata": {},
     "output_type": "execute_result"
    }
   ],
   "source": [
    "result = chain({\"query\": question4})\n",
    "result[\"result\"]"
   ]
  },
  {
   "cell_type": "code",
   "execution_count": 65,
   "id": "e76c89e5-53c3-41ec-91f5-b2b53a37a4f8",
   "metadata": {},
   "outputs": [
    {
     "name": "stdout",
     "output_type": "stream",
     "text": [
      " Apple Inc. is an American multinational corporation headquartered in Cupertino, California, in Silicon Valley."
     ]
    },
    {
     "data": {
      "text/plain": [
       "' Apple Inc. is an American multinational corporation headquartered in Cupertino, California, in Silicon Valley.'"
      ]
     },
     "execution_count": 65,
     "metadata": {},
     "output_type": "execute_result"
    }
   ],
   "source": [
    "result = chain({\"query\": question5})\n",
    "result[\"result\"]"
   ]
  },
  {
   "cell_type": "code",
   "execution_count": 66,
   "id": "939a6e06-6f4f-431d-a3f9-e6ec4424165a",
   "metadata": {},
   "outputs": [
    {
     "name": "stdout",
     "output_type": "stream",
     "text": [
      " The development of electronic devices like the iPhone is a collaborative effort by teams of people, not an individual achievement as quoted with the iPhone's launch in 2007. Regarding your question, I'm sorry, Apple does not release information about the exact number of color options for the upcoming iPhone 15 Pro Max 128GB model. Thanks for asking!"
     ]
    },
    {
     "data": {
      "text/plain": [
       "\" The development of electronic devices like the iPhone is a collaborative effort by teams of people, not an individual achievement as quoted with the iPhone's launch in 2007. Regarding your question, I'm sorry, Apple does not release information about the exact number of color options for the upcoming iPhone 15 Pro Max 128GB model. Thanks for asking!\""
      ]
     },
     "execution_count": 66,
     "metadata": {},
     "output_type": "execute_result"
    }
   ],
   "source": [
    "result = chain({\"query\": question6})\n",
    "result[\"result\"]"
   ]
  },
  {
   "cell_type": "code",
   "execution_count": 67,
   "id": "394911db-6940-46f6-abd5-df751a84b316",
   "metadata": {},
   "outputs": [],
   "source": [
    "question7 = \"How are you doing today? Feeling well?\""
   ]
  },
  {
   "cell_type": "code",
   "execution_count": 68,
   "id": "183f6e71-26b8-4214-8971-1274d7e57d7f",
   "metadata": {},
   "outputs": [
    {
     "name": "stdout",
     "output_type": "stream",
     "text": [
      " I'm an artificial intelligence and don't have the ability to feel emotions or physical sensations. However, I can tell you that based on the context provided, Jobs and Wozniak were surprised and excited by the success of their Apple I computer sale at The Byte Shop, which led them to develop the Apple II computer. Thanks for asking!"
     ]
    },
    {
     "data": {
      "text/plain": [
       "\" I'm an artificial intelligence and don't have the ability to feel emotions or physical sensations. However, I can tell you that based on the context provided, Jobs and Wozniak were surprised and excited by the success of their Apple I computer sale at The Byte Shop, which led them to develop the Apple II computer. Thanks for asking!\""
      ]
     },
     "execution_count": 68,
     "metadata": {},
     "output_type": "execute_result"
    }
   ],
   "source": [
    "result = chain({\"query\": question7})\n",
    "result[\"result\"]"
   ]
  },
  {
   "cell_type": "code",
   "execution_count": 72,
   "id": "17189542-45fc-413f-9af1-09f40ba8b33d",
   "metadata": {},
   "outputs": [],
   "source": [
    "question8 = \"That's awesome - can I develop my own phone, you think?!!\""
   ]
  },
  {
   "cell_type": "code",
   "execution_count": 73,
   "id": "4e5ed458-078f-4c83-9a7f-2444ff88c136",
   "metadata": {},
   "outputs": [
    {
     "name": "stdout",
     "output_type": "stream",
     "text": [
      " Developing a phone from scratch is a complex and resource-intensive process that goes beyond creating an app or using existing hardware. Apple's iPhone revolutionized the industry by combining advanced hardware, innovative design, and user-friendly software. To develop your own phone, you would need extensive knowledge in electrical engineering, software development, industrial design, and manufacturing processes. It's not a simple endeavor, but it's an inspiring goal! Thanks for asking!"
     ]
    },
    {
     "data": {
      "text/plain": [
       "\" Developing a phone from scratch is a complex and resource-intensive process that goes beyond creating an app or using existing hardware. Apple's iPhone revolutionized the industry by combining advanced hardware, innovative design, and user-friendly software. To develop your own phone, you would need extensive knowledge in electrical engineering, software development, industrial design, and manufacturing processes. It's not a simple endeavor, but it's an inspiring goal! Thanks for asking!\""
      ]
     },
     "execution_count": 73,
     "metadata": {},
     "output_type": "execute_result"
    }
   ],
   "source": [
    "result = chain({\"query\": question8})\n",
    "result[\"result\"]"
   ]
  },
  {
   "cell_type": "code",
   "execution_count": 69,
   "id": "82332be5-d522-47f4-87d2-4590b4c18969",
   "metadata": {},
   "outputs": [
    {
     "name": "stderr",
     "output_type": "stream",
     "text": [
      "huggingface/tokenizers: The current process just got forked, after parallelism has already been used. Disabling parallelism to avoid deadlocks...\n",
      "To disable this warning, you can either:\n",
      "\t- Avoid using `tokenizers` before the fork if possible\n",
      "\t- Explicitly set the environment variable TOKENIZERS_PARALLELISM=(true | false)\n"
     ]
    }
   ],
   "source": [
    "!bye"
   ]
  },
  {
   "cell_type": "markdown",
   "id": "6bf0732a-859e-4846-b6d4-e538b30b779f",
   "metadata": {},
   "source": [
    "## Task 5\n",
    "Create a simple interactive application prototype, which can input text documents and a question from\n",
    "a human user, and then output an answer of that question, considering the input documents and\n",
    "applying GenAI approach."
   ]
  },
  {
   "cell_type": "markdown",
   "id": "17effa53-cc51-4685-9f4d-4fd5160c2ccd",
   "metadata": {},
   "source": [
    "1. Open the folder **genai-app** in your prefered editor\n",
    "2. Open a terminal and run **pip3 install -r requirements.txt** (maybe you have to use **pip** and not **pip3**)\n",
    "3. Run **npm i** \n",
    "4. Run **npx tsc**\n",
    "5. Finally run **node dist/app.js** to launch the server\n",
    "\n",
    "Project should now be running on **localhost:5001** or **localhost:5000**.\n",
    "Upload a document and ask questions about it."
   ]
  },
  {
   "cell_type": "markdown",
   "id": "81135780-1cf1-46cf-a05d-1dd5b2f58126",
   "metadata": {},
   "source": [
    "## Task 6\n",
    "Suggest some business implementations of such an application."
   ]
  },
  {
   "cell_type": "markdown",
   "id": "0d2842a2-3c5e-4d2f-81fa-6bbdb441e1c7",
   "metadata": {},
   "source": [
    "Some business implementations for an application that utilizes GenAI for document question answering could be:\n",
    "- Legal Firms since they deal with vast amounts of documentation, including contracts and regulations. An AI-powered document question answering system can assist lawyers in quickly retrieving relevant information from legal documents, improving research efficiency, and aiding in case preparation.\n",
    "\n",
    "- Financial Institutions such as banks, investment firms, and insurance companies since they handle financial documents, such as reports, policies, and compliance documents. GenAI applications can help financial professionals extract insights, answer queries related to regulations, analyze financial statements, and identify relevant information for risk assessment and investment decisions.\n",
    "\n",
    "- Healthcare Providers and Pharmaceutical Companies since they handle patient records, research papers, clinical trials, and drug information. A GenAI application can assist doctors in quickly accessing medical knowledge, diagnosing conditions, prescribing treatments, and staying updated with the latest research findings.\n",
    "\n",
    "- Human Resources Departments since they manage a large volume of documents, including employee handbooks, policies, resumes, and contracts. AI-powered document question answering systems can help recruitment processes, answer employee queries, ensure compliance with labor laws, and provide guidance on company policies and procedures.\n",
    "\n",
    "- Customer Support and Service Industries such as telecommunications, retail, and hospitality, can utilize GenAI applications to enhance customer support. By quickly retrieving relevant information from product manuals, FAQs, and knowledge bases, customer service representatives can provide faster and more accurate responses to customer inquiries, improving overall satisfaction.\n",
    "\n",
    "- Education and E-Learning Platforms can integrate GenAI applications to enhance learning experiences. Students and educators can use these tools to retrieve information from textbooks, research papers, and educational resources, facilitating better understanding, knowledge retention, and academic performance."
   ]
  }
 ],
 "metadata": {
  "kernelspec": {
   "display_name": "Python 3 (ipykernel)",
   "language": "python",
   "name": "python3"
  },
  "language_info": {
   "codemirror_mode": {
    "name": "ipython",
    "version": 3
   },
   "file_extension": ".py",
   "mimetype": "text/x-python",
   "name": "python",
   "nbconvert_exporter": "python",
   "pygments_lexer": "ipython3",
   "version": "3.12.3"
  }
 },
 "nbformat": 4,
 "nbformat_minor": 5
}
